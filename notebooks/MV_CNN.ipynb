{
 "cells": [
  {
   "cell_type": "code",
   "execution_count": null,
   "id": "6f573f39",
   "metadata": {},
   "outputs": [],
   "source": [
    "import os\n",
    "import torch\n",
    "from torch import nn\n",
    "from torch.utils.data import DataLoader\n",
    "from torchvision import datasets, transforms\n",
    "import numpy as np"
   ]
  },
  {
   "cell_type": "code",
   "execution_count": null,
   "id": "662bc22e",
   "metadata": {},
   "outputs": [],
   "source": [
    "device = \"cuda\" if torch.cuda.is_available() else \"cpu\"\n",
    "print(f\"Using {device} device\")"
   ]
  },
  {
   "cell_type": "code",
   "execution_count": null,
   "id": "ff3f5d4a",
   "metadata": {},
   "outputs": [],
   "source": []
  },
  {
   "cell_type": "code",
   "execution_count": null,
   "id": "bd5c2d3a",
   "metadata": {},
   "outputs": [],
   "source": [
    "from typing import Tuple\n",
    "\n",
    "class Flatten(nn.Module):\n",
    "    \"\"\"A custom layer that views an input as 1D.\"\"\"\n",
    "    \n",
    "    def forward(self, input):\n",
    "        return input.view(input.size(0), -1)\n",
    "    \n",
    "class MultivariateCNN(nn.Module):\n",
    "\n",
    "    def __init__(self, \n",
    "                 input_dimension: Tuple,\n",
    "                 in_channels: int,\n",
    "                 n_outputs: int,\n",
    "                 n_cnn_layers: int = 2, \n",
    "                 conv_kernel_size: int=2, \n",
    "                 pool_kernel_size: int=2):\n",
    "        super(MultivariateCNN, self).__init__()\n",
    "        self.linear_dim1 = get_cnn_layer_output_dim(n_layers=n_cnn_layers, \n",
    "                                                    input_size=input_dimension[0], \n",
    "                                                    conv_kernel_size=conv_kernel_size)\n",
    "        self.linear_dim2 = get_cnn_layer_output_dim(n_layers=n_cnn_layers, \n",
    "                                                    input_size=input_dimension[1], \n",
    "                                                    conv_kernel_size=conv_kernel_size)\n",
    "        self.encoder = nn.Sequential(\n",
    "              nn.Conv2d(in_channels, out_channels=8, kernel_size=conv_kernel_size),\n",
    "              nn.ReLU(),\n",
    "              nn.MaxPool2d(kernel_size=pool_kernel_size),\n",
    "              nn.Conv2d(in_channels=8, out_channels=16, kernel_size=conv_kernel_size),\n",
    "              nn.ReLU(),\n",
    "              nn.MaxPool2d(kernel_size=pool_kernel_size),\n",
    "              Flatten(),\n",
    "              nn.Linear(self.linear_dim1*self.linear_dim2*16, 128),\n",
    "              nn.Dropout(0.5),\n",
    "        )\n",
    "        self.linear_classifiers = [nn.Linear(128, n_outputs) for i in range(in_channels)]\n",
    "\n",
    "    def forward(self, x):\n",
    "        out = self.encoder(x)\n",
    "        outputs = [classifier(out) for classifier in self.linear_classifiers]\n",
    "        return outputs"
   ]
  },
  {
   "cell_type": "code",
   "execution_count": null,
   "id": "13825304",
   "metadata": {},
   "outputs": [],
   "source": [
    "N_CLASSES = 5\n",
    "N_SERIES = 3\n",
    "N_DIM1 = 24\n",
    "N_DIM2 = 43\n",
    "\n",
    "model = MultivariateCNN(input_dimension=(N_DIM1, N_DIM2), in_channels=N_SERIES, n_outputs=N_CLASSES, \n",
    "                        n_cnn_layers=2, conv_kernel_size=5, pool_kernel_size=2\n",
    "                       ).to(device)\n",
    "print(model)\n"
   ]
  },
  {
   "cell_type": "code",
   "execution_count": null,
   "id": "7fc63fc4",
   "metadata": {},
   "outputs": [],
   "source": [
    "X = torch.rand(1, N_SERIES, N_DIM1, N_DIM2, device=device)\n",
    "logits = model(X)\n",
    "pred_probabs = [nn.Softmax(dim=1)(logit) for logit in logits]\n",
    "y_preds = [pred_probab.argmax(1) for pred_probab in pred_probabs]\n",
    "print(f\"Predicted class: {y_preds}\")"
   ]
  },
  {
   "cell_type": "code",
   "execution_count": null,
   "id": "f37d8e74",
   "metadata": {},
   "outputs": [],
   "source": [
    "X"
   ]
  },
  {
   "cell_type": "code",
   "execution_count": null,
   "id": "62d3e3b3",
   "metadata": {},
   "outputs": [],
   "source": [
    "nn.Softmax(dim=1)(logits[0])"
   ]
  },
  {
   "cell_type": "code",
   "execution_count": null,
   "id": "1730a1e7",
   "metadata": {},
   "outputs": [],
   "source": [
    "input = torch.randn(20, 16, 50, 100)\n",
    "m = nn.Conv2d(16, 33, 3, stride=1)\n",
    "output = m(input)\n",
    "output.shape"
   ]
  },
  {
   "cell_type": "code",
   "execution_count": null,
   "id": "9553d975",
   "metadata": {},
   "outputs": [],
   "source": [
    "3136/128"
   ]
  },
  {
   "cell_type": "code",
   "execution_count": null,
   "id": "2f37fba5",
   "metadata": {},
   "outputs": [],
   "source": [
    "input_image = torch.rand(3,28,28)\n",
    "print(input_image.size())\n"
   ]
  },
  {
   "cell_type": "code",
   "execution_count": null,
   "id": "a6bed3c6",
   "metadata": {},
   "outputs": [],
   "source": [
    "flatten = nn.Flatten()\n",
    "flat_image = flatten(input_image)\n",
    "print(flat_image.size())\n"
   ]
  },
  {
   "cell_type": "code",
   "execution_count": null,
   "id": "bf8b2387",
   "metadata": {},
   "outputs": [],
   "source": [
    "layer1 = nn.Linear(in_features=28*28, out_features=20)\n",
    "hidden1 = layer1(flat_image)\n",
    "print(hidden1.size())"
   ]
  },
  {
   "cell_type": "code",
   "execution_count": null,
   "id": "d4f2cf3b",
   "metadata": {},
   "outputs": [],
   "source": [
    "print(f\"Before ReLU: {hidden1}\\n\\n\")\n",
    "hidden1 = nn.ReLU()(hidden1)\n",
    "print(f\"After ReLU: {hidden1}\")"
   ]
  },
  {
   "cell_type": "code",
   "execution_count": null,
   "id": "fe41ff95",
   "metadata": {},
   "outputs": [],
   "source": [
    "seq_modules = nn.Sequential(\n",
    "    flatten,\n",
    "    layer1,\n",
    "    nn.ReLU(),\n",
    "    nn.Linear(20, 10)\n",
    ")\n",
    "input_image = torch.rand(3,28,28)\n",
    "logits = seq_modules(input_image)\n",
    "logits"
   ]
  },
  {
   "cell_type": "code",
   "execution_count": null,
   "id": "e18a0840",
   "metadata": {},
   "outputs": [],
   "source": [
    "softmax = nn.Softmax(dim=1)\n",
    "pred_probab = softmax(logits)\n",
    "pred_probab"
   ]
  },
  {
   "cell_type": "code",
   "execution_count": null,
   "id": "185874a1",
   "metadata": {},
   "outputs": [],
   "source": [
    "print(f\"Model structure: {model}\\n\\n\")\n",
    "\n",
    "for name, param in model.named_parameters():\n",
    "    print(f\"Layer: {name} | Size: {param.size()} | Values : {param[:2]} \\n\")\n"
   ]
  },
  {
   "cell_type": "code",
   "execution_count": null,
   "id": "2976c83e",
   "metadata": {},
   "outputs": [],
   "source": []
  }
 ],
 "metadata": {
  "kernelspec": {
   "display_name": "Python 3.9 (datascience)",
   "language": "python",
   "name": "datascience"
  },
  "language_info": {
   "codemirror_mode": {
    "name": "ipython",
    "version": 3
   },
   "file_extension": ".py",
   "mimetype": "text/x-python",
   "name": "python",
   "nbconvert_exporter": "python",
   "pygments_lexer": "ipython3",
   "version": "3.8.12"
  }
 },
 "nbformat": 4,
 "nbformat_minor": 5
}
