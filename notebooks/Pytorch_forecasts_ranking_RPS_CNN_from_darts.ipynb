{
 "cells": [
  {
   "cell_type": "code",
   "execution_count": null,
   "id": "c62c18b4",
   "metadata": {
    "colab": {
     "base_uri": "https://localhost:8080/"
    },
    "id": "c62c18b4",
    "outputId": "76fbe2fe-68b5-40ec-9297-b754f070b96f"
   },
   "outputs": [],
   "source": [
    "# pip install watermark lightgbm plotly cufflinks numpy pandas optuna torch pandas_ta gluonts pandas_datareader"
   ]
  },
  {
   "cell_type": "code",
   "execution_count": null,
   "id": "s2Q0FzF2JQIh",
   "metadata": {
    "colab": {
     "base_uri": "https://localhost:8080/",
     "height": 1000
    },
    "id": "s2Q0FzF2JQIh",
    "outputId": "6b445e27-33e1-4bd5-899a-98f839863736"
   },
   "outputs": [],
   "source": [
    "# pip install -U git+https://github.com/unit8co/darts.git@master"
   ]
  },
  {
   "cell_type": "code",
   "execution_count": null,
   "id": "395fd930",
   "metadata": {},
   "outputs": [],
   "source": [
    "# pip install pytorch-forecasting==0.10.2"
   ]
  },
  {
   "cell_type": "code",
   "execution_count": null,
   "id": "129ffc3c",
   "metadata": {
    "id": "129ffc3c"
   },
   "outputs": [],
   "source": [
    "# 1. magic for inline plot\n",
    "# 2. magic to print version\n",
    "# 3. magic so that the notebook will reload external python modules\n",
    "# 4. magic to enable retina (high resolution) plots\n",
    "# https://gist.github.com/minrk/3301035\n",
    "%matplotlib inline\n",
    "%reload_ext watermark\n",
    "%config InlineBackend.figure_format='retina'"
   ]
  },
  {
   "cell_type": "code",
   "execution_count": null,
   "id": "df345767",
   "metadata": {
    "colab": {
     "base_uri": "https://localhost:8080/"
    },
    "id": "df345767",
    "outputId": "c1dfac25-33b8-48e7-e9bf-34341033439e"
   },
   "outputs": [],
   "source": [
    "%watermark"
   ]
  },
  {
   "cell_type": "code",
   "execution_count": null,
   "id": "364f8efb",
   "metadata": {
    "id": "364f8efb"
   },
   "outputs": [],
   "source": [
    "# conda install -c conda-forge 'u8darts'"
   ]
  },
  {
   "cell_type": "markdown",
   "id": "8e31e795",
   "metadata": {
    "id": "8e31e795"
   },
   "source": [
    "### Library imports"
   ]
  },
  {
   "cell_type": "code",
   "execution_count": null,
   "id": "81b05fbe",
   "metadata": {
    "colab": {
     "base_uri": "https://localhost:8080/",
     "height": 17
    },
    "id": "81b05fbe",
    "outputId": "b6141785-035e-47ba-c0e2-150468a163e2"
   },
   "outputs": [],
   "source": [
    "import warnings\n",
    "warnings.filterwarnings('ignore')\n",
    "\n",
    "import os\n",
    "import darts\n",
    "import pandas as pd\n",
    "import numpy as np \n",
    "from datetime import datetime\n",
    "import numpy as np\n",
    "\n",
    "import plotly\n",
    "import plotly.express as px\n",
    "import plotly.graph_objects as go\n",
    "\n",
    "# pip install matplotlib==3.1.2\n",
    "import matplotlib\n",
    "import matplotlib.pyplot as plt\n",
    "\n",
    "import plotly.offline\n",
    "import cufflinks as cf\n",
    "cf.go_offline()\n",
    "cf.set_config_file(offline=False, world_readable=True)"
   ]
  },
  {
   "cell_type": "code",
   "execution_count": null,
   "id": "ae337963",
   "metadata": {},
   "outputs": [],
   "source": [
    "import copy\n",
    "from pathlib import Path\n",
    "import warnings\n",
    "\n",
    "import pytorch_lightning as pl\n",
    "from pytorch_lightning.callbacks import EarlyStopping, LearningRateMonitor\n",
    "from pytorch_lightning.loggers import TensorBoardLogger\n",
    "\n",
    "import torch\n",
    "import torch.nn.functional as F\n",
    "\n",
    "from pytorch_forecasting import Baseline, TemporalFusionTransformer, TimeSeriesDataSet\n",
    "from pytorch_forecasting.data import GroupNormalizer\n",
    "from pytorch_forecasting.metrics import SMAPE, PoissonLoss, QuantileLoss\n",
    "from pytorch_forecasting.models.temporal_fusion_transformer.tuning import optimize_hyperparameters"
   ]
  },
  {
   "cell_type": "code",
   "execution_count": null,
   "id": "f755d351",
   "metadata": {},
   "outputs": [],
   "source": [
    "# pip install -U \"u8darts[torch]\""
   ]
  },
  {
   "cell_type": "code",
   "execution_count": null,
   "id": "c8c94ba1",
   "metadata": {},
   "outputs": [],
   "source": [
    "import pytorch_forecasting\n",
    "pytorch_forecasting.__version__"
   ]
  },
  {
   "cell_type": "markdown",
   "id": "2e94c945",
   "metadata": {
    "id": "2e94c945"
   },
   "source": [
    "### Reproducibility"
   ]
  },
  {
   "cell_type": "code",
   "execution_count": null,
   "id": "a78e90ff",
   "metadata": {
    "colab": {
     "base_uri": "https://localhost:8080/"
    },
    "id": "a78e90ff",
    "outputId": "62d47171-1ec1-47e5-9d65-f98078071113"
   },
   "outputs": [],
   "source": [
    "pl.seed_everything(42)\n",
    "\n",
    "import random\n",
    "random.seed(0)\n",
    "\n",
    "import numpy as np\n",
    "np.random.seed(0)\n",
    "\n",
    "import torch\n",
    "torch.manual_seed(0)"
   ]
  },
  {
   "cell_type": "code",
   "execution_count": null,
   "id": "424cdf80",
   "metadata": {
    "colab": {
     "base_uri": "https://localhost:8080/",
     "height": 238
    },
    "id": "424cdf80",
    "outputId": "9548de8a-12cd-46da-f3f6-bdefbfadb8d0"
   },
   "outputs": [],
   "source": [
    "df_m6 = pd.read_csv(\"M6_Universe.csv\", index_col=0)\n",
    "df_m6[\"symbol\"] = df_m6[\"symbol\"].replace(\"FB\", 'META')\n",
    "df_m6.head(5)"
   ]
  },
  {
   "cell_type": "code",
   "execution_count": null,
   "id": "a499885a",
   "metadata": {},
   "outputs": [],
   "source": [
    "stocks = df_m6[df_m6[\"class\"]==\"Stock\"][\"symbol\"].values\n",
    "etfs = df_m6[df_m6[\"class\"]==\"ETF\"][\"symbol\"].values"
   ]
  },
  {
   "cell_type": "code",
   "execution_count": null,
   "id": "216285c9",
   "metadata": {
    "id": "216285c9"
   },
   "outputs": [],
   "source": [
    "SAMPLE_SIZE = 100\n",
    "FORECAST_HORIZON = 20 #days\n",
    "PERIODS = 20"
   ]
  },
  {
   "cell_type": "code",
   "execution_count": null,
   "id": "7a73d1cc",
   "metadata": {
    "colab": {
     "base_uri": "https://localhost:8080/",
     "height": 86,
     "referenced_widgets": [
      "b7d303b547924163acb02c690cfac7c7",
      "81ff9d16b3624054984a94baf2998fad",
      "3fb3e0fe97e54db99c0532a66911bc84",
      "1add1e8945964e189c63557224b740fc",
      "96bdac24271c490caeafed06be53e2fd",
      "f3fc925008d64eb3af346326f11737cf",
      "073685966c774b01953c0343bef00251",
      "c0774078b6954b58afa08a657c648e37",
      "4c3eb9334739464aaa3ef7b87c6369ac",
      "ec425fa026f84d359130572ee193b14f",
      "742a3ef153ee4c1fa4a7ced4c899c0e0"
     ]
    },
    "id": "7a73d1cc",
    "outputId": "da93f97c-de29-45a8-e6db-22020c88a06a"
   },
   "outputs": [],
   "source": [
    "import yfinance as yf\n",
    "import warnings\n",
    "\n",
    "warnings.filterwarnings(\"ignore\")\n",
    "# pd.options.display.float_format = '{:.4%}'.format\n",
    "\n",
    "# Date range\n",
    "start = '2021-12-01'\n",
    "end = '2022-09-21'\n",
    "\n",
    "# Tickers of assets\n",
    "df_m6 = pd.read_csv(\"M6_Universe.csv\", index_col=0)\n",
    "df_m6.head(5)\n",
    "# assets = list(df_m6[\"symbol\"].values)\n",
    "assets = df_m6[\"symbol\"].str.replace(\"FB\", \"META\").to_list()\n",
    "\n",
    "# Downloading data\n",
    "data = yf.download(assets, start = start, end = end)\n",
    "data = data.loc[:,('Adj Close', slice(None))]\n",
    "data.columns = assets"
   ]
  },
  {
   "cell_type": "code",
   "execution_count": null,
   "id": "3223773a",
   "metadata": {},
   "outputs": [],
   "source": [
    "from src.utils import reindex_weekdays\n",
    "from src.ticket_features import (calculate_pct_returns, calculate_log_returns, \n",
    "                                 calculate_cum_log_returns, calculate_cum_pct_returns)"
   ]
  },
  {
   "cell_type": "code",
   "execution_count": null,
   "id": "966c7f40",
   "metadata": {},
   "outputs": [],
   "source": [
    "df_stock_returns_quantiles = reindex_weekdays(df.copy(), drop_nonweekdays=True)\n",
    "df_stock_returns_quantiles = (df\n",
    "                              .apply(calculate_pct_returns, periods=PERIODS, axis=0)\n",
    "                              .apply(lambda x: x + np.random.normal(0, 1e-12, size=(100)), axis=1)\n",
    "                              .dropna()\n",
    "                              .rank(1, ascending=True, method='min') // (20.+1e-12) + 1).clip(upper=5).astype(int)\n",
    "df_stock_returns_quantiles -= 1"
   ]
  },
  {
   "cell_type": "code",
   "execution_count": null,
   "id": "f49989d1",
   "metadata": {},
   "outputs": [],
   "source": []
  },
  {
   "cell_type": "code",
   "execution_count": null,
   "id": "99747679",
   "metadata": {},
   "outputs": [],
   "source": []
  },
  {
   "cell_type": "code",
   "execution_count": null,
   "id": "42cdf331",
   "metadata": {},
   "outputs": [],
   "source": [
    "from datetime import timedelta\n",
    "\n",
    "train_start = data.index[0] #data[data[\"group\"]==\"OGN\"].dropna().index[0]\n",
    "test_end = data.index[-1] #data[data[\"group\"]==\"IUMO.L\"].dropna().index[-1]\n",
    "\n",
    "# train_start = data.loc[data.index[data.index.get_level_values(0)==\"OGN\"]].index#[0][1]\n",
    "# test_end = groupby.loc[groupby.index[groupby.index.get_level_values(0)==\"IUMO.L\"]].index[-1][1]\n",
    "#train_start = pd.Timestamp('2021-07-10 00:00:00')\n",
    "training_cutoff = data.index[int((data.shape[0]/100)*0.8)] #data.index.max() - timedelta(days=3*FORECAST_HORIZON)\n",
    "test_cutoff = training_cutoff + timedelta(days=1) - timedelta(days=20)\n",
    "training_cutoff"
   ]
  },
  {
   "cell_type": "code",
   "execution_count": null,
   "id": "ca66b1f7",
   "metadata": {},
   "outputs": [],
   "source": [
    "groupby = data.groupby(\"group\")\n",
    "groupby_train = groupby.apply(lambda group: group.loc[train_start:training_cutoff].drop([\"group\"], axis=1))\n",
    "groupby_test = groupby.apply(lambda group: group.loc[test_cutoff:test_end].drop([\"group\"], axis=1))"
   ]
  },
  {
   "cell_type": "code",
   "execution_count": null,
   "id": "d6d857bf",
   "metadata": {},
   "outputs": [],
   "source": [
    "groupby_train.index.get_level_values(1).dayofweek.unique()"
   ]
  },
  {
   "cell_type": "code",
   "execution_count": null,
   "id": "ec2d7bcc",
   "metadata": {},
   "outputs": [],
   "source": [
    "from sklearn.preprocessing import MinMaxScaler\n",
    "\n",
    "X_scaler = MinMaxScaler()\n",
    "X_train = X_scaler.fit_transform(groupby_train.drop([\"target\"], axis=1).values)\n",
    "# print(X_scaler.data_max_)\n",
    "X_test = X_scaler.transform(groupby_test.drop([\"target\"], axis=1).values)"
   ]
  },
  {
   "cell_type": "code",
   "execution_count": null,
   "id": "9ca6d0bf",
   "metadata": {},
   "outputs": [],
   "source": [
    "groupby_train.loc[:, groupby_train.columns!=\"target\"] = X_train\n",
    "groupby_test.loc[:, groupby_test.columns!=\"target\"] = X_test"
   ]
  },
  {
   "cell_type": "code",
   "execution_count": null,
   "id": "6fdc7a08",
   "metadata": {},
   "outputs": [],
   "source": [
    "import tqdm \n",
    "dates = groupby_train.index.get_level_values(1).unique()\n",
    "tickets = groupby_train.index.get_level_values(0).unique()\n",
    "\n",
    "train_batches_X, train_batches_Y = [], []\n",
    "LOOK_BACK = 20\n",
    "for i in tqdm.tqdm(range(len(dates)-LOOK_BACK)):\n",
    "    start = dates[i].date()\n",
    "    end = dates[i+FORECAST_HORIZON-1].date()\n",
    "    next_target = dates[i+FORECAST_HORIZON].date()\n",
    "    print(f\"{start}:{end} => {next_target}\")\n",
    "    train_batch_X, train_batch_Y = [], []\n",
    "    for ticket in tickets:\n",
    "        df_ = groupby_train.xs(slice(start, end), level=1)\n",
    "        df_X = df_.loc[df_.index==ticket, groupby_train.columns!=\"target\"].astype(np.float16)\n",
    "        if df_X.shape!=(LOOK_BACK, groupby_train.shape[1]-1):\n",
    "            print(f\"{ticket} shape: {df_X.shape}\")\n",
    "        df_ = groupby_train.xs(slice(next_target, next_target), level=1)\n",
    "        df_Y = df_.loc[df_.index==ticket, groupby_train.columns==\"target\"].astype(int)\n",
    "        train_batch_X.append(df_X.values.tolist())\n",
    "        train_batch_Y.append(df_Y.values.tolist())\n",
    "    train_batches_X.append(train_batch_X)\n",
    "    train_batches_Y.append(train_batch_Y)\n",
    "\n",
    "# for index in groupby_train.index.get_level_values(1)[:-20:]:\n",
    "#     print(f\"{index.date()}:{index.date() + timedelta(days=20)}\")"
   ]
  },
  {
   "cell_type": "code",
   "execution_count": null,
   "id": "f660f6be",
   "metadata": {},
   "outputs": [],
   "source": [
    "import tqdm \n",
    "dates = groupby_test.index.get_level_values(1).unique()\n",
    "tickets = groupby_test.index.get_level_values(0).unique()\n",
    "\n",
    "test_batches_X, test_batches_Y = [], []\n",
    "LOOK_BACK = 20\n",
    "for i in tqdm.tqdm(range(len(dates)-LOOK_BACK)):\n",
    "    start = dates[i].date()\n",
    "    end = dates[i+FORECAST_HORIZON-1].date()\n",
    "    next_target = dates[i+FORECAST_HORIZON].date()\n",
    "    print(f\"{start}:{end} => {next_target}\")\n",
    "    test_batch_X, test_batch_Y = [], []\n",
    "    for ticket in tickets:\n",
    "        df_ = groupby_test.xs(slice(start, end), level=1)\n",
    "        df_X = df_.loc[df_.index==ticket, groupby_test.columns!=\"target\"].astype(np.float16)\n",
    "        if df_X.shape!=(LOOK_BACK, groupby_train.shape[1]-1):\n",
    "            print(f\"{ticket} shape: {df_X.shape}\")\n",
    "        df_ = groupby_test.xs(slice(next_target, next_target), level=1)\n",
    "        df_Y = df_.loc[df_.index==ticket, groupby_test.columns==\"target\"].astype(int)\n",
    "        if df_Y.empty:\n",
    "            print(f\"{ticket}\")#\" shape: {df_Y.shape}\")\n",
    "            print(df_Y.values)\n",
    "        test_batch_X.append(df_X.values.tolist())\n",
    "        test_batch_Y.append(df_Y.values.tolist())\n",
    "    test_batches_X.append(test_batch_X)\n",
    "    test_batches_Y.append(test_batch_Y)\n",
    "\n",
    "# for index in groupby_train.index.get_level_values(1)[:-20:]:\n",
    "#     print(f\"{index.date()}:{index.date() + timedelta(days=20)}\")"
   ]
  },
  {
   "cell_type": "code",
   "execution_count": null,
   "id": "139babeb",
   "metadata": {},
   "outputs": [],
   "source": [
    "\n",
    "device = \"cuda\" if torch.cuda.is_available() else \"cpu\"\n",
    "print(f\"Using {device} device\")\n",
    "\n",
    "train_batches_X = torch.tensor(train_batches_X, dtype=torch.float32, device=device)\n",
    "train_batches_Y = torch.tensor(train_batches_Y, dtype=torch.int64, device=device)\n",
    "test_batches_X = torch.tensor(test_batches_X, dtype=torch.float32, device=device)\n",
    "test_batches_Y = torch.tensor(test_batches_Y, dtype=torch.int64, device=device)"
   ]
  },
  {
   "cell_type": "code",
   "execution_count": null,
   "id": "84bb8a9f",
   "metadata": {},
   "outputs": [],
   "source": [
    "from src.cnn_utils import train_model, run_epoch\n",
    "from src.mv_cnn import RPSLoss"
   ]
  },
  {
   "cell_type": "code",
   "execution_count": null,
   "id": "13675ef0",
   "metadata": {},
   "outputs": [],
   "source": [
    "import numpy as np\n",
    "import torch\n",
    "import torch.nn as nn\n",
    "import torch.nn.functional as F\n",
    "\n",
    "from src.mv_cnn_utils import batchify_data\n",
    "\n",
    "batch_size = 64\n",
    "\n",
    "# Specify seed for deterministic behavior, then shuffle. Do not change seed for official submissions to edx\n",
    "np.random.seed(12321)  # for reproducibility\n",
    "torch.manual_seed(12321)  # for reproducibility\n",
    "\n",
    "X_train, y_train, X_test, y_test = train_batches_X, train_batches_Y, test_batches_X, test_batches_Y\n",
    "# Split into train and dev\n",
    "dev_split_index = int(8 * len(X_train) / 10)\n",
    "X_dev = X_train[dev_split_index:,:,:,:]\n",
    "y_dev = y_train[dev_split_index:,:,:,:]\n",
    "X_train = X_train[:dev_split_index,:,:,:]\n",
    "y_train = y_train[:dev_split_index,:,:,:]\n",
    "\n",
    "# Split dataset into batches\n",
    "train_batches = batchify_data(X_train, y_train, batch_size)\n",
    "dev_batches = batchify_data(X_dev, y_dev, batch_size)\n",
    "test_batches = batchify_data(X_test, y_test, batch_size)"
   ]
  },
  {
   "cell_type": "code",
   "execution_count": null,
   "id": "04bdf713",
   "metadata": {},
   "outputs": [],
   "source": [
    "from src.mv_cnn import MultivariateCNN"
   ]
  },
  {
   "cell_type": "code",
   "execution_count": null,
   "id": "eab8cd99",
   "metadata": {},
   "outputs": [],
   "source": [
    "# Load model\n",
    "N_CLASSES = 5\n",
    "N_SERIES = train_batches_X[0].shape[0]\n",
    "N_DIM1 = train_batches_X[0].shape[1]\n",
    "N_DIM2 = train_batches_X[0].shape[2]\n",
    "\n",
    "model = MultivariateCNN(input_dimension=(N_DIM1, N_DIM2), in_channels=N_SERIES, n_outputs=N_CLASSES, \n",
    "                        n_cnn_layers=2, conv_kernel_size=6, pool_kernel_size=2\n",
    "                       ).to(device)\n",
    "print(model)\n",
    "\n",
    "# Train\n",
    "model = train_model(train_batches, dev_batches, model, lr=1e-3, momentum=0.9, nesterov=False, n_epochs=100)\n",
    "\n",
    "## Evaluate the model on test data\n",
    "loss = run_epoch(test_batches, model.eval(), None)\n",
    "[print('Valid | loss{}: {:.6f} '.format(i, loss[i])) for i in range(len(loss))]\n"
   ]
  },
  {
   "cell_type": "code",
   "execution_count": null,
   "id": "bfb6b471",
   "metadata": {},
   "outputs": [],
   "source": [
    "## Evaluate the model on test data\n",
    "loss = run_epoch(test_batches, model.eval(), None)\n",
    "[print('Valid | loss{}: {:.6f} '.format(i, loss[i])) for i in range(len(loss))]"
   ]
  },
  {
   "cell_type": "code",
   "execution_count": null,
   "id": "37e02bbb",
   "metadata": {},
   "outputs": [],
   "source": [
    "np.where(np.array(loss)<0.15, np.array(loss), 0.16).mean()"
   ]
  },
  {
   "cell_type": "code",
   "execution_count": null,
   "id": "1b1c5a97",
   "metadata": {},
   "outputs": [],
   "source": [
    "x, y = train_batches[0]['x'], train_batches[0]['y']\n",
    "preds = model(x)\n",
    "preds#.shape"
   ]
  },
  {
   "cell_type": "code",
   "execution_count": null,
   "id": "ae6d9608",
   "metadata": {},
   "outputs": [],
   "source": [
    "F.softmax(preds[0], dim=1)"
   ]
  },
  {
   "cell_type": "code",
   "execution_count": null,
   "id": "60a17aab",
   "metadata": {},
   "outputs": [],
   "source": [
    "diff = torch.cumsum(F.softmax(preds[0], dim=-1), dim=-1) - torch.cumsum(F.one_hot(y[:,1,0,0].to(torch.int64), num_classes=5), dim=-1)"
   ]
  },
  {
   "cell_type": "code",
   "execution_count": null,
   "id": "f730b49d",
   "metadata": {},
   "outputs": [],
   "source": [
    "torch.mean(torch.stack([torch.mean(diff**2, dim=0), torch.mean(diff**2, dim=0)]))#, axis=1)"
   ]
  },
  {
   "cell_type": "code",
   "execution_count": null,
   "id": "6efea998",
   "metadata": {},
   "outputs": [],
   "source": [
    "torch.mean(diff, axis=1)#.detach().numpy().mean()"
   ]
  },
  {
   "cell_type": "code",
   "execution_count": null,
   "id": "8d4edbde",
   "metadata": {},
   "outputs": [],
   "source": []
  },
  {
   "cell_type": "code",
   "execution_count": null,
   "id": "fefc07e5",
   "metadata": {},
   "outputs": [],
   "source": []
  },
  {
   "cell_type": "code",
   "execution_count": null,
   "id": "0511ae3a",
   "metadata": {},
   "outputs": [],
   "source": []
  },
  {
   "cell_type": "code",
   "execution_count": null,
   "id": "4f2dcf82",
   "metadata": {},
   "outputs": [],
   "source": []
  },
  {
   "cell_type": "code",
   "execution_count": null,
   "id": "33edcbc2",
   "metadata": {},
   "outputs": [],
   "source": []
  },
  {
   "cell_type": "code",
   "execution_count": null,
   "id": "ae7f3f2a",
   "metadata": {},
   "outputs": [],
   "source": []
  },
  {
   "cell_type": "code",
   "execution_count": null,
   "id": "5d39eaaa",
   "metadata": {},
   "outputs": [],
   "source": []
  },
  {
   "cell_type": "code",
   "execution_count": null,
   "id": "b43f0220",
   "metadata": {},
   "outputs": [],
   "source": [
    "time_varying_known_categoricals = ['day_of_week'] # 'month', \n",
    "static_columns = [\"group\", \"ticket\", 'GICS_sector/ETF_type','GICS_industry/ETF_subtype']\n",
    "time_var_reals = list(tickers_data_enriched[\"ABBV\"].columns[~tickers_data_enriched[\"ABBV\"].columns.isin(static_columns+time_varying_known_categoricals)]) \\\n",
    "                 #+ list(covariates.reset_index().columns)\n",
    "data.columns = [d.replace('.','_') for d in data.columns]\n",
    "time_var_reals = [d.replace('.','_') for d in time_var_reals]\n",
    "time_var_reals = [i for i in time_var_reals if i!=\"time_index\"]\n",
    "\n",
    "data = memory_transforms.fit_transform(data)\n",
    "data['target'] = data['target'].astype(int)\n",
    "# data['month'] = data['month'].astype(str)\n",
    "data['day_of_week'] = data['day_of_week'].astype(str)"
   ]
  },
  {
   "cell_type": "code",
   "execution_count": null,
   "id": "93aca48b",
   "metadata": {},
   "outputs": [],
   "source": [
    "data['time_index'].max()"
   ]
  },
  {
   "cell_type": "code",
   "execution_count": null,
   "id": "5448572a",
   "metadata": {},
   "outputs": [],
   "source": [
    "from datetime import timedelta\n",
    "from pytorch_forecasting.data.encoders import EncoderNormalizer, TorchNormalizer\n",
    "\n",
    "max_prediction_length = FORECAST_HORIZON\n",
    "max_encoder_length = PERIODS\n",
    "# training_cutoff = data['time_index'].max() - 4*FORECAST_HORIZON\n",
    "training_cutoff = data['time_index'].min() + 5*FORECAST_HORIZON\n",
    "\n",
    "training = TimeSeriesDataSet(\n",
    "    data[lambda x: x['time_index'] >= training_cutoff],\n",
    "    time_idx=\"time_index\",\n",
    "    target=\"target\",\n",
    "    group_ids=[\"group\"],\n",
    "    min_encoder_length=max_encoder_length // 2,  # keep encoder length long (as it is in the validation set)\n",
    "    max_encoder_length=max_encoder_length,\n",
    "    min_prediction_length=1,\n",
    "    max_prediction_length=max_prediction_length,\n",
    "    static_categoricals=static_columns,\n",
    "    static_reals=[], #\"avg_population_2017\", \"avg_yearly_household_income_2017\"],\n",
    "    time_varying_known_categoricals=time_varying_known_categoricals,#\"special_days\", \"month\"],\n",
    "    variable_groups={}, # \"special_days\": special_days},  # group of categorical variables can be treated as one variable\n",
    "    time_varying_known_reals=[\"time_index\"],\n",
    "    time_varying_unknown_categoricals=[],\n",
    "    time_varying_unknown_reals=[\"target\"]+time_var_reals,\n",
    "    # lags={\"target\": [i for i in range(1,max_prediction_length+1)]},\n",
    "    #target_normalizer=NaNLabelEncoder(),\n",
    "    #GroupNormalizer(\n",
    "    #   groups=group_columns, transformation=(F.one_hot, torch.argmax)\n",
    "    #),  # use softplus and normalize by group\n",
    "#     target_normalizer = TorchNormalizer(transformation=(F.one_hot, torch.argmax)), \n",
    "    add_relative_time_idx=True,\n",
    "    add_target_scales=False,\n",
    "    add_encoder_length=False,\n",
    "    #allow_missing_timesteps=True,\n",
    "    #add_nan=True\n",
    ")\n",
    "\n",
    "# create validation set (predict=True) which means to predict the last max_prediction_length points in time\n",
    "# for each series\n",
    "validation = TimeSeriesDataSet.from_dataset(training, data, predict=True, stop_randomization=True)\n",
    "\n",
    "# create dataloaders for model\n",
    "batch_size = 128  # set this between 32 to 128\n",
    "train_dataloader = training.to_dataloader(train=True, batch_size=batch_size, num_workers=0)\n",
    "val_dataloader = validation.to_dataloader(train=False, batch_size=batch_size * 10, num_workers=0)"
   ]
  },
  {
   "cell_type": "code",
   "execution_count": null,
   "id": "189f25c4",
   "metadata": {},
   "outputs": [],
   "source": [
    "from pytorch_forecasting.metrics import MultiHorizonMetric\n",
    "from typing import Dict\n",
    "\n",
    "def rps_loss(y_pred, target):\n",
    "        probs = F.one_hot(y_pred)\n",
    "        outcome = F.one_hot(target)\n",
    "        loss = torch.mean(((torch.cumsum(probs, dim=-1) - torch.cumsum(outcome, dim=-1))**2).double(), dim=-1, keepdim=True)\n",
    "        return loss\n",
    "    \n",
    "    \n",
    "class RPS(MultiHorizonMetric):\n",
    "    \n",
    "    def loss(self, y_pred, target):\n",
    "        y_pred = F.softmax(y_pred, dim=-1)\n",
    "        target = F.one_hot(target)\n",
    "        loss = torch_rps(y_pred, target)\n",
    "        return loss\n",
    "\n",
    "    def to_quantiles(self, out: Dict[str, torch.Tensor], quantiles=None):\n",
    "        return out\n",
    "    \n",
    "    def to_prediction(self, y_pred: torch.Tensor) -> torch.Tensor:\n",
    "        \"\"\"\n",
    "        Convert network prediction into a point prediction.\n",
    "\n",
    "        Args:\n",
    "            y_pred: prediction output of network\n",
    "\n",
    "        Returns:\n",
    "            torch.Tensor: point prediction\n",
    "        \"\"\"\n",
    "        return y_pred"
   ]
  },
  {
   "cell_type": "code",
   "execution_count": null,
   "id": "ba312c36",
   "metadata": {},
   "outputs": [],
   "source": [
    "from pytorch_forecasting import Baseline, DeepAR, TimeSeriesDataSet\n",
    "# from metrics import RPS, torch_rps\n",
    "# configure network and trainer\n",
    "early_stop_callback = EarlyStopping(monitor=\"val_loss\", min_delta=1e-4, patience=10, verbose=False, mode=\"min\")\n",
    "lr_logger = LearningRateMonitor()  # log the learning rate\n",
    "logger = TensorBoardLogger(\"lightning_logs\")  # logging results to a tensorboard\n",
    "\n",
    "# configure network and trainer\n",
    "trainer = pl.Trainer(\n",
    "    max_epochs=10,\n",
    "    gpus=0,\n",
    "    # clipping gradients is a hyperparameter and important to prevent divergance\n",
    "    # of the gradient for recurrent neural networks\n",
    "    gradient_clip_val=0.1,\n",
    "    #limit_train_batches=30,  # coment in for training, running valiation every 30 batches\n",
    "    # fast_dev_run=True,  # comment in to check that networkor dataset has no serious bugs\n",
    "    callbacks=[early_stop_callback], #lr_logger, \n",
    "    #logger=logger,\n",
    ")\n",
    "\n",
    "net = TemporalFusionTransformer.from_dataset(\n",
    "    training,\n",
    "    # not meaningful for finding the learning rate but otherwise very important\n",
    "    learning_rate=0.01,\n",
    "    hidden_size=16,  # most important hyperparameter apart from learning rate\n",
    "    # number of attention heads. Set to up to 4 for large datasets\n",
    "    attention_head_size=1,\n",
    "    dropout=0.5,  # between 0.1 and 0.3 are good values\n",
    "    hidden_continuous_size=8,  # set to <= hidden_size\n",
    "    output_size=5, # 5 categories by default\n",
    "    loss=RPS(),\n",
    "    # reduce learning rate if no improvement in validation loss after x epochs\n",
    "    reduce_on_plateau_patience=4,\n",
    "    #log_interval=10,  # uncomment for learning rate finder and otherwise, e.g. to 10 for logging every 10 batches\n",
    "    logging_metrics=torch.nn.ModuleList([RPS()])\n",
    ")\n",
    "print(f\"Number of parameters in network: {net.size()/1e3:.1f}k\")"
   ]
  },
  {
   "cell_type": "code",
   "execution_count": null,
   "id": "85039c66",
   "metadata": {},
   "outputs": [],
   "source": [
    "# # find optimal learning rate\n",
    "# res = trainer.tuner.lr_find(\n",
    "#     net,\n",
    "#     train_dataloaders=train_dataloader,\n",
    "#     val_dataloaders=val_dataloader,\n",
    "#     max_lr=10.0,\n",
    "#     min_lr=1e-6,\n",
    "# )\n",
    "\n",
    "# print(f\"suggested learning rate: {res.suggestion()}\")\n",
    "# fig = res.plot(show=True, suggest=True)\n",
    "# fig.show()"
   ]
  },
  {
   "cell_type": "markdown",
   "id": "50867e1d",
   "metadata": {},
   "source": [
    "### Baseline"
   ]
  },
  {
   "cell_type": "code",
   "execution_count": null,
   "id": "e700ec52",
   "metadata": {},
   "outputs": [],
   "source": [
    "\n",
    "# calculate baseline mean absolute error, i.e. predict next value as the last available value from the history\n",
    "actuals = torch.cat([y for x, (y, weight) in iter(val_dataloader)])\n",
    "baseline_predictions = Baseline().predict(val_dataloader)\n",
    "rps_loss(baseline_predictions, actuals).mean()"
   ]
  },
  {
   "cell_type": "code",
   "execution_count": null,
   "id": "a4b3aee9",
   "metadata": {},
   "outputs": [],
   "source": [
    "# fit network\n",
    "trainer.fit(\n",
    "    net,\n",
    "    train_dataloaders=train_dataloader,\n",
    "    val_dataloaders=val_dataloader,\n",
    ")\n"
   ]
  },
  {
   "cell_type": "markdown",
   "id": "7f5b6528",
   "metadata": {},
   "source": [
    "### Hyperparameter tuning"
   ]
  },
  {
   "cell_type": "code",
   "execution_count": null,
   "id": "6659f0a3",
   "metadata": {},
   "outputs": [],
   "source": [
    "# import pickle\n",
    "\n",
    "# from pytorch_forecasting.models.temporal_fusion_transformer.tuning import optimize_hyperparameters\n",
    "\n",
    "# # create study\n",
    "# study = optimize_hyperparameters(\n",
    "#     train_dataloader,\n",
    "#     val_dataloader,\n",
    "#     model_path=\"optuna_test\",\n",
    "#     n_trials=100,\n",
    "#     max_epochs=10,\n",
    "#     gradient_clip_val_range=(0.01, 1.0),\n",
    "#     hidden_size_range=(8, 128),\n",
    "#     hidden_continuous_size_range=(8, 128),\n",
    "#     attention_head_size_range=(1, 4),\n",
    "#     learning_rate_range=(0.001, 0.1),\n",
    "#     dropout_range=(0.1, 0.3),\n",
    "#     trainer_kwargs=dict(limit_train_batches=30),\n",
    "#     reduce_on_plateau_patience=4,\n",
    "#     use_learning_rate_finder=False,  # use Optuna to find ideal learning rate or use in-built learning rate finder\n",
    "# )\n",
    "\n",
    "# # save study results - also we can resume tuning at a later point in time\n",
    "# with open(\"test_study.pkl\", \"wb\") as fout:\n",
    "#     pickle.dump(study, fout)\n",
    "\n",
    "# # show best hyperparameters\n",
    "# print(study.best_trial.params)\n"
   ]
  },
  {
   "cell_type": "code",
   "execution_count": null,
   "id": "22540121",
   "metadata": {},
   "outputs": [],
   "source": [
    "# load the best model according to the validation loss\n",
    "# (given that we use early stopping, this is not necessarily the last epoch)\n",
    "best_model_path = trainer.checkpoint_callback.best_model_path\n",
    "best_tft = TemporalFusionTransformer.load_from_checkpoint(best_model_path)"
   ]
  },
  {
   "cell_type": "code",
   "execution_count": null,
   "id": "8a5974cd",
   "metadata": {},
   "outputs": [],
   "source": [
    "# calcualte mean absolute error on validation set\n",
    "actuals = torch.cat([y[0] for x, y in iter(val_dataloader)])\n",
    "x, y = next(iter(val_dataloader))\n",
    "predictions = best_tft(x)"
   ]
  },
  {
   "cell_type": "code",
   "execution_count": null,
   "id": "333d236b",
   "metadata": {},
   "outputs": [],
   "source": [
    "# raw predictions are a dictionary from which all kind of information including quantiles can be extracted\n",
    "raw_predictions, x = best_tft.predict(val_dataloader, mode=\"raw\", return_x=True)"
   ]
  },
  {
   "cell_type": "code",
   "execution_count": null,
   "id": "dc72fee6",
   "metadata": {},
   "outputs": [],
   "source": [
    "interpretation = best_tft.interpret_output(raw_predictions, reduction=\"sum\")\n",
    "best_tft.plot_interpretation(interpretation)"
   ]
  },
  {
   "cell_type": "code",
   "execution_count": null,
   "id": "37dab512",
   "metadata": {},
   "outputs": [],
   "source": [
    "#F.softmax(raw_predictions['prediction'], dim=-1)#.argmax(dim=-1)\n",
    "loss = RPS().loss(raw_predictions['prediction'][:,:,:], x['decoder_target'][:,:]).detach().numpy().squeeze()\n",
    "loss"
   ]
  },
  {
   "cell_type": "code",
   "execution_count": null,
   "id": "1f0af4e5",
   "metadata": {},
   "outputs": [],
   "source": [
    "np.mean(loss, axis=0)"
   ]
  },
  {
   "cell_type": "code",
   "execution_count": null,
   "id": "9f4f98d7",
   "metadata": {},
   "outputs": [],
   "source": [
    "\n",
    "import plotly.express as px\n",
    "\n",
    "fig = px.imshow(loss.T, \n",
    "                color_continuous_scale=\"Cividis\", \n",
    "                origin='lower', \n",
    "                title=f\"Mean loss {np.mean(loss)}\"\n",
    "               )\n",
    "fig.show()"
   ]
  },
  {
   "cell_type": "code",
   "execution_count": null,
   "id": "fa48172d",
   "metadata": {},
   "outputs": [],
   "source": [
    "# best_tft.plot_prediction(x, raw_predictions, idx=2, add_loss_to_title=True);"
   ]
  },
  {
   "cell_type": "markdown",
   "id": "a0eb825c",
   "metadata": {},
   "source": [
    "## Submission "
   ]
  },
  {
   "cell_type": "markdown",
   "id": "6eb51af7",
   "metadata": {},
   "source": [
    "### Predict on new data"
   ]
  },
  {
   "cell_type": "code",
   "execution_count": null,
   "id": "8eb48eec",
   "metadata": {},
   "outputs": [],
   "source": [
    "# select last 20 days from data (max_encoder_length is 20)\n",
    "new_enc_data = []\n",
    "for ticket in [*stocks, *etfs]:\n",
    "    ticket_data = data[data.group==ticket]\n",
    "    encoder_data = ticket_data[lambda x: x.time_index > x.time_index.max() - max_encoder_length]\n",
    "    new_enc_data.append(encoder_data)\n",
    "encoder_data = pd.concat(new_enc_data)\n",
    "\n",
    "# select last known data point and create decoder data from it by repeating it and incrementing the month\n",
    "# in a real world dataset, we should not just forward fill the covariates but specify them to account\n",
    "# for changes in special days and prices (which you absolutely should do but we are too lazy here)\n",
    "new_dec_data = []\n",
    "for ticket in [*stocks, *etfs]:\n",
    "    ticket_data = data[data.group==ticket]\n",
    "    last_ticket_data = ticket_data[lambda x: x.time_index == x.time_index.max()]\n",
    "    decoder_data = pd.concat(\n",
    "        [last_ticket_data.assign(time_index=lambda x: x.time_index + i) for i in range(1, max_prediction_length + 1)],\n",
    "        ignore_index=True,\n",
    "    )\n",
    "    new_dec_data.append(decoder_data)\n",
    "decoder_data = pd.concat(new_dec_data)\n",
    "\n",
    "#decoder_data[\"month\"] = ((encoder_data[\"month\"]).astype(int) + 1).astype(str).values\n",
    "decoder_data[\"day_of_week\"] = encoder_data[\"day_of_week\"].values\n",
    "\n",
    "# combine encoder and decoder data\n",
    "new_prediction_data = pd.concat([encoder_data, decoder_data], ignore_index=True)"
   ]
  },
  {
   "cell_type": "code",
   "execution_count": null,
   "id": "b48d7ea4",
   "metadata": {},
   "outputs": [],
   "source": [
    "# raw predictions are a dictionary from which all kind of information including quantiles can be extracted\n",
    "new_raw_predictions, new_x = best_tft.predict(new_prediction_data, mode=\"raw\", return_x=True)\n",
    "\n",
    "for idx in range(10):  # plot 10 examples\n",
    "    best_tft.plot_prediction(new_x, new_raw_predictions, idx=idx, \n",
    "                             show_future_observed=False, add_loss_to_title=False);"
   ]
  },
  {
   "cell_type": "code",
   "execution_count": null,
   "id": "a049f553",
   "metadata": {},
   "outputs": [],
   "source": [
    "def submit_forecasts(raw_predictions, decimals=5):\n",
    "    df_submission = pd.read_csv(\"template.csv\", index_col=0)\n",
    "    df_submission.iloc[:,:-1] = F.softmax(raw_predictions['prediction'], dim=-1).numpy()[:,-1,:]\n",
    "    df_submission.iloc[:,:-1] = df_submission.iloc[:,:-1].round(decimals)\n",
    "    df_submission.iloc[:, 0] += (1 - df_submission.iloc[:,:-1].sum(1).round(decimals))\n",
    "    df_submission.round(decimals).to_csv(\"./results/submission_sub4.csv\")"
   ]
  },
  {
   "cell_type": "code",
   "execution_count": null,
   "id": "eb7a272a",
   "metadata": {},
   "outputs": [],
   "source": [
    "submit_forecasts(new_raw_predictions)"
   ]
  },
  {
   "cell_type": "code",
   "execution_count": null,
   "id": "43bb2dd5",
   "metadata": {},
   "outputs": [],
   "source": [
    "df = (pd.read_csv(\"./results/submission_sub4.csv\").iloc[:,1:6] + pd.read_csv(\"./template.csv\").iloc[:,1:6])"
   ]
  },
  {
   "cell_type": "code",
   "execution_count": null,
   "id": "85ca799f",
   "metadata": {},
   "outputs": [],
   "source": [
    "df = pd.read_csv(\"./results/submission_sub4.csv\").iloc[:,1:6] \n",
    "df = df/2."
   ]
  },
  {
   "cell_type": "code",
   "execution_count": null,
   "id": "62bce581",
   "metadata": {},
   "outputs": [],
   "source": [
    "df1 = pd.read_csv(\"./results/submission_sub4.csv\")\n",
    "df1.iloc[:,1:6] = df\n",
    "df1.to_csv(\"./results/submission_sub4.csv\", index=False)"
   ]
  },
  {
   "cell_type": "code",
   "execution_count": null,
   "id": "e5537458",
   "metadata": {},
   "outputs": [],
   "source": [
    "loss = RPS().loss(raw_predictions['prediction'], x['decoder_target']).detach().numpy().squeeze()"
   ]
  },
  {
   "cell_type": "code",
   "execution_count": null,
   "id": "ed0a5999",
   "metadata": {},
   "outputs": [],
   "source": [
    "import seaborn as sns; sns.set_theme()\n",
    "ax = sns.heatmap(loss.T[:,:])"
   ]
  },
  {
   "cell_type": "code",
   "execution_count": null,
   "id": "53a4c198",
   "metadata": {},
   "outputs": [],
   "source": [
    "plt.plot(loss.T)"
   ]
  },
  {
   "cell_type": "code",
   "execution_count": null,
   "id": "2a8bb647",
   "metadata": {},
   "outputs": [],
   "source": [
    "import plotly.express as px\n",
    "\n",
    "fig = px.imshow(loss.T, \n",
    "                color_continuous_scale=\"Cividis\", \n",
    "                origin='lower', \n",
    "                title=\"Missing values\"\n",
    "               )\n",
    "fig.show()"
   ]
  },
  {
   "cell_type": "code",
   "execution_count": null,
   "id": "7269cc6f",
   "metadata": {},
   "outputs": [],
   "source": [
    "loss.mean()"
   ]
  },
  {
   "cell_type": "code",
   "execution_count": null,
   "id": "68957049",
   "metadata": {},
   "outputs": [],
   "source": [
    "labels = ['Rank 1','Rank 2','Rank 3','Rank 4','Rank 5']"
   ]
  },
  {
   "cell_type": "code",
   "execution_count": null,
   "id": "0dcf56bd",
   "metadata": {},
   "outputs": [],
   "source": []
  },
  {
   "cell_type": "code",
   "execution_count": null,
   "id": "afc815af",
   "metadata": {},
   "outputs": [],
   "source": []
  },
  {
   "cell_type": "code",
   "execution_count": null,
   "id": "84acea12",
   "metadata": {},
   "outputs": [],
   "source": []
  },
  {
   "cell_type": "code",
   "execution_count": null,
   "id": "4be2dc0d",
   "metadata": {},
   "outputs": [],
   "source": []
  },
  {
   "cell_type": "code",
   "execution_count": null,
   "id": "2e926673",
   "metadata": {},
   "outputs": [],
   "source": []
  }
 ],
 "metadata": {
  "colab": {
   "collapsed_sections": [
    "dc63743e"
   ],
   "name": "Darts forecasts.ipynb",
   "provenance": [],
   "toc_visible": true
  },
  "interpreter": {
   "hash": "31f2aee4e71d21fbe5cf8b01ff0e069b9275f58929596ceb00d14d90e3e16cd6"
  },
  "kernelspec": {
   "display_name": "Python 3.8.9 64-bit",
   "language": "python",
   "name": "python3"
  },
  "language_info": {
   "codemirror_mode": {
    "name": "ipython",
    "version": 3
   },
   "file_extension": ".py",
   "mimetype": "text/x-python",
   "name": "python",
   "nbconvert_exporter": "python",
   "pygments_lexer": "ipython3",
   "version": "3.8.9"
  },
  "widgets": {
   "application/vnd.jupyter.widget-state+json": {
    "073685966c774b01953c0343bef00251": {
     "model_module": "@jupyter-widgets/base",
     "model_module_version": "1.2.0",
     "model_name": "LayoutModel",
     "state": {
      "_model_module": "@jupyter-widgets/base",
      "_model_module_version": "1.2.0",
      "_model_name": "LayoutModel",
      "_view_count": null,
      "_view_module": "@jupyter-widgets/base",
      "_view_module_version": "1.2.0",
      "_view_name": "LayoutView",
      "align_content": null,
      "align_items": null,
      "align_self": null,
      "border": null,
      "bottom": null,
      "display": null,
      "flex": null,
      "flex_flow": null,
      "grid_area": null,
      "grid_auto_columns": null,
      "grid_auto_flow": null,
      "grid_auto_rows": null,
      "grid_column": null,
      "grid_gap": null,
      "grid_row": null,
      "grid_template_areas": null,
      "grid_template_columns": null,
      "grid_template_rows": null,
      "height": null,
      "justify_content": null,
      "justify_items": null,
      "left": null,
      "margin": null,
      "max_height": null,
      "max_width": null,
      "min_height": null,
      "min_width": null,
      "object_fit": null,
      "object_position": null,
      "order": null,
      "overflow": null,
      "overflow_x": null,
      "overflow_y": null,
      "padding": null,
      "right": null,
      "top": null,
      "visibility": null,
      "width": null
     }
    },
    "08db2b9a48c542adbe8cc7e06bb31871": {
     "model_module": "@jupyter-widgets/controls",
     "model_module_version": "1.5.0",
     "model_name": "FloatProgressModel",
     "state": {
      "_dom_classes": [],
      "_model_module": "@jupyter-widgets/controls",
      "_model_module_version": "1.5.0",
      "_model_name": "FloatProgressModel",
      "_view_count": null,
      "_view_module": "@jupyter-widgets/controls",
      "_view_module_version": "1.5.0",
      "_view_name": "ProgressView",
      "bar_style": "success",
      "description": "",
      "description_tooltip": null,
      "layout": "IPY_MODEL_c6d702c50e9840e69a9e75caf2bdb4b0",
      "max": 100,
      "min": 0,
      "orientation": "horizontal",
      "style": "IPY_MODEL_4d8362c0442e446abcd1f36928c2b8e9",
      "value": 100
     }
    },
    "1add1e8945964e189c63557224b740fc": {
     "model_module": "@jupyter-widgets/controls",
     "model_module_version": "1.5.0",
     "model_name": "FloatProgressModel",
     "state": {
      "_dom_classes": [],
      "_model_module": "@jupyter-widgets/controls",
      "_model_module_version": "1.5.0",
      "_model_name": "FloatProgressModel",
      "_view_count": null,
      "_view_module": "@jupyter-widgets/controls",
      "_view_module_version": "1.5.0",
      "_view_name": "ProgressView",
      "bar_style": "success",
      "description": "",
      "description_tooltip": null,
      "layout": "IPY_MODEL_4c3eb9334739464aaa3ef7b87c6369ac",
      "max": 100,
      "min": 0,
      "orientation": "horizontal",
      "style": "IPY_MODEL_c0774078b6954b58afa08a657c648e37",
      "value": 100
     }
    },
    "3fb3e0fe97e54db99c0532a66911bc84": {
     "model_module": "@jupyter-widgets/controls",
     "model_module_version": "1.5.0",
     "model_name": "HTMLModel",
     "state": {
      "_dom_classes": [],
      "_model_module": "@jupyter-widgets/controls",
      "_model_module_version": "1.5.0",
      "_model_name": "HTMLModel",
      "_view_count": null,
      "_view_module": "@jupyter-widgets/controls",
      "_view_module_version": "1.5.0",
      "_view_name": "HTMLView",
      "description": "",
      "description_tooltip": null,
      "layout": "IPY_MODEL_073685966c774b01953c0343bef00251",
      "placeholder": "​",
      "style": "IPY_MODEL_f3fc925008d64eb3af346326f11737cf",
      "value": "100%"
     }
    },
    "4c2e235e63d64196964deec526f3784c": {
     "model_module": "@jupyter-widgets/base",
     "model_module_version": "1.2.0",
     "model_name": "LayoutModel",
     "state": {
      "_model_module": "@jupyter-widgets/base",
      "_model_module_version": "1.2.0",
      "_model_name": "LayoutModel",
      "_view_count": null,
      "_view_module": "@jupyter-widgets/base",
      "_view_module_version": "1.2.0",
      "_view_name": "LayoutView",
      "align_content": null,
      "align_items": null,
      "align_self": null,
      "border": null,
      "bottom": null,
      "display": null,
      "flex": null,
      "flex_flow": null,
      "grid_area": null,
      "grid_auto_columns": null,
      "grid_auto_flow": null,
      "grid_auto_rows": null,
      "grid_column": null,
      "grid_gap": null,
      "grid_row": null,
      "grid_template_areas": null,
      "grid_template_columns": null,
      "grid_template_rows": null,
      "height": null,
      "justify_content": null,
      "justify_items": null,
      "left": null,
      "margin": null,
      "max_height": null,
      "max_width": null,
      "min_height": null,
      "min_width": null,
      "object_fit": null,
      "object_position": null,
      "order": null,
      "overflow": null,
      "overflow_x": null,
      "overflow_y": null,
      "padding": null,
      "right": null,
      "top": null,
      "visibility": null,
      "width": null
     }
    },
    "4c3eb9334739464aaa3ef7b87c6369ac": {
     "model_module": "@jupyter-widgets/base",
     "model_module_version": "1.2.0",
     "model_name": "LayoutModel",
     "state": {
      "_model_module": "@jupyter-widgets/base",
      "_model_module_version": "1.2.0",
      "_model_name": "LayoutModel",
      "_view_count": null,
      "_view_module": "@jupyter-widgets/base",
      "_view_module_version": "1.2.0",
      "_view_name": "LayoutView",
      "align_content": null,
      "align_items": null,
      "align_self": null,
      "border": null,
      "bottom": null,
      "display": null,
      "flex": null,
      "flex_flow": null,
      "grid_area": null,
      "grid_auto_columns": null,
      "grid_auto_flow": null,
      "grid_auto_rows": null,
      "grid_column": null,
      "grid_gap": null,
      "grid_row": null,
      "grid_template_areas": null,
      "grid_template_columns": null,
      "grid_template_rows": null,
      "height": null,
      "justify_content": null,
      "justify_items": null,
      "left": null,
      "margin": null,
      "max_height": null,
      "max_width": null,
      "min_height": null,
      "min_width": null,
      "object_fit": null,
      "object_position": null,
      "order": null,
      "overflow": null,
      "overflow_x": null,
      "overflow_y": null,
      "padding": null,
      "right": null,
      "top": null,
      "visibility": null,
      "width": null
     }
    },
    "4d8362c0442e446abcd1f36928c2b8e9": {
     "model_module": "@jupyter-widgets/controls",
     "model_module_version": "1.5.0",
     "model_name": "ProgressStyleModel",
     "state": {
      "_model_module": "@jupyter-widgets/controls",
      "_model_module_version": "1.5.0",
      "_model_name": "ProgressStyleModel",
      "_view_count": null,
      "_view_module": "@jupyter-widgets/base",
      "_view_module_version": "1.2.0",
      "_view_name": "StyleView",
      "bar_color": null,
      "description_width": ""
     }
    },
    "53173af3160b4b758ed2c33d3b554008": {
     "model_module": "@jupyter-widgets/controls",
     "model_module_version": "1.5.0",
     "model_name": "HTMLModel",
     "state": {
      "_dom_classes": [],
      "_model_module": "@jupyter-widgets/controls",
      "_model_module_version": "1.5.0",
      "_model_name": "HTMLModel",
      "_view_count": null,
      "_view_module": "@jupyter-widgets/controls",
      "_view_module_version": "1.5.0",
      "_view_name": "HTMLView",
      "description": "",
      "description_tooltip": null,
      "layout": "IPY_MODEL_75bdf511cc3242eaae63569a7d40f4b6",
      "placeholder": "​",
      "style": "IPY_MODEL_e6f3d7eb344d40a4b9fd97a3617a94f9",
      "value": " 100/100 [00:05&lt;00:00, 20.52it/s]"
     }
    },
    "5b705b8c225d4d76b46b50c9f510a40e": {
     "model_module": "@jupyter-widgets/controls",
     "model_module_version": "1.5.0",
     "model_name": "HBoxModel",
     "state": {
      "_dom_classes": [],
      "_model_module": "@jupyter-widgets/controls",
      "_model_module_version": "1.5.0",
      "_model_name": "HBoxModel",
      "_view_count": null,
      "_view_module": "@jupyter-widgets/controls",
      "_view_module_version": "1.5.0",
      "_view_name": "HBoxView",
      "box_style": "",
      "children": [
       "IPY_MODEL_c575ac2e09424c3f8fc76c924b1314f4",
       "IPY_MODEL_08db2b9a48c542adbe8cc7e06bb31871",
       "IPY_MODEL_53173af3160b4b758ed2c33d3b554008"
      ],
      "layout": "IPY_MODEL_86f69349b4b94dc68923fbcd72d1a2b1"
     }
    },
    "742a3ef153ee4c1fa4a7ced4c899c0e0": {
     "model_module": "@jupyter-widgets/base",
     "model_module_version": "1.2.0",
     "model_name": "LayoutModel",
     "state": {
      "_model_module": "@jupyter-widgets/base",
      "_model_module_version": "1.2.0",
      "_model_name": "LayoutModel",
      "_view_count": null,
      "_view_module": "@jupyter-widgets/base",
      "_view_module_version": "1.2.0",
      "_view_name": "LayoutView",
      "align_content": null,
      "align_items": null,
      "align_self": null,
      "border": null,
      "bottom": null,
      "display": null,
      "flex": null,
      "flex_flow": null,
      "grid_area": null,
      "grid_auto_columns": null,
      "grid_auto_flow": null,
      "grid_auto_rows": null,
      "grid_column": null,
      "grid_gap": null,
      "grid_row": null,
      "grid_template_areas": null,
      "grid_template_columns": null,
      "grid_template_rows": null,
      "height": null,
      "justify_content": null,
      "justify_items": null,
      "left": null,
      "margin": null,
      "max_height": null,
      "max_width": null,
      "min_height": null,
      "min_width": null,
      "object_fit": null,
      "object_position": null,
      "order": null,
      "overflow": null,
      "overflow_x": null,
      "overflow_y": null,
      "padding": null,
      "right": null,
      "top": null,
      "visibility": null,
      "width": null
     }
    },
    "75bdf511cc3242eaae63569a7d40f4b6": {
     "model_module": "@jupyter-widgets/base",
     "model_module_version": "1.2.0",
     "model_name": "LayoutModel",
     "state": {
      "_model_module": "@jupyter-widgets/base",
      "_model_module_version": "1.2.0",
      "_model_name": "LayoutModel",
      "_view_count": null,
      "_view_module": "@jupyter-widgets/base",
      "_view_module_version": "1.2.0",
      "_view_name": "LayoutView",
      "align_content": null,
      "align_items": null,
      "align_self": null,
      "border": null,
      "bottom": null,
      "display": null,
      "flex": null,
      "flex_flow": null,
      "grid_area": null,
      "grid_auto_columns": null,
      "grid_auto_flow": null,
      "grid_auto_rows": null,
      "grid_column": null,
      "grid_gap": null,
      "grid_row": null,
      "grid_template_areas": null,
      "grid_template_columns": null,
      "grid_template_rows": null,
      "height": null,
      "justify_content": null,
      "justify_items": null,
      "left": null,
      "margin": null,
      "max_height": null,
      "max_width": null,
      "min_height": null,
      "min_width": null,
      "object_fit": null,
      "object_position": null,
      "order": null,
      "overflow": null,
      "overflow_x": null,
      "overflow_y": null,
      "padding": null,
      "right": null,
      "top": null,
      "visibility": null,
      "width": null
     }
    },
    "81ff9d16b3624054984a94baf2998fad": {
     "model_module": "@jupyter-widgets/base",
     "model_module_version": "1.2.0",
     "model_name": "LayoutModel",
     "state": {
      "_model_module": "@jupyter-widgets/base",
      "_model_module_version": "1.2.0",
      "_model_name": "LayoutModel",
      "_view_count": null,
      "_view_module": "@jupyter-widgets/base",
      "_view_module_version": "1.2.0",
      "_view_name": "LayoutView",
      "align_content": null,
      "align_items": null,
      "align_self": null,
      "border": null,
      "bottom": null,
      "display": null,
      "flex": null,
      "flex_flow": null,
      "grid_area": null,
      "grid_auto_columns": null,
      "grid_auto_flow": null,
      "grid_auto_rows": null,
      "grid_column": null,
      "grid_gap": null,
      "grid_row": null,
      "grid_template_areas": null,
      "grid_template_columns": null,
      "grid_template_rows": null,
      "height": null,
      "justify_content": null,
      "justify_items": null,
      "left": null,
      "margin": null,
      "max_height": null,
      "max_width": null,
      "min_height": null,
      "min_width": null,
      "object_fit": null,
      "object_position": null,
      "order": null,
      "overflow": null,
      "overflow_x": null,
      "overflow_y": null,
      "padding": null,
      "right": null,
      "top": null,
      "visibility": null,
      "width": null
     }
    },
    "86f69349b4b94dc68923fbcd72d1a2b1": {
     "model_module": "@jupyter-widgets/base",
     "model_module_version": "1.2.0",
     "model_name": "LayoutModel",
     "state": {
      "_model_module": "@jupyter-widgets/base",
      "_model_module_version": "1.2.0",
      "_model_name": "LayoutModel",
      "_view_count": null,
      "_view_module": "@jupyter-widgets/base",
      "_view_module_version": "1.2.0",
      "_view_name": "LayoutView",
      "align_content": null,
      "align_items": null,
      "align_self": null,
      "border": null,
      "bottom": null,
      "display": null,
      "flex": null,
      "flex_flow": null,
      "grid_area": null,
      "grid_auto_columns": null,
      "grid_auto_flow": null,
      "grid_auto_rows": null,
      "grid_column": null,
      "grid_gap": null,
      "grid_row": null,
      "grid_template_areas": null,
      "grid_template_columns": null,
      "grid_template_rows": null,
      "height": null,
      "justify_content": null,
      "justify_items": null,
      "left": null,
      "margin": null,
      "max_height": null,
      "max_width": null,
      "min_height": null,
      "min_width": null,
      "object_fit": null,
      "object_position": null,
      "order": null,
      "overflow": null,
      "overflow_x": null,
      "overflow_y": null,
      "padding": null,
      "right": null,
      "top": null,
      "visibility": null,
      "width": null
     }
    },
    "96bdac24271c490caeafed06be53e2fd": {
     "model_module": "@jupyter-widgets/controls",
     "model_module_version": "1.5.0",
     "model_name": "HTMLModel",
     "state": {
      "_dom_classes": [],
      "_model_module": "@jupyter-widgets/controls",
      "_model_module_version": "1.5.0",
      "_model_name": "HTMLModel",
      "_view_count": null,
      "_view_module": "@jupyter-widgets/controls",
      "_view_module_version": "1.5.0",
      "_view_name": "HTMLView",
      "description": "",
      "description_tooltip": null,
      "layout": "IPY_MODEL_742a3ef153ee4c1fa4a7ced4c899c0e0",
      "placeholder": "​",
      "style": "IPY_MODEL_ec425fa026f84d359130572ee193b14f",
      "value": " 100/100 [00:24&lt;00:00,  4.91it/s]"
     }
    },
    "b7d303b547924163acb02c690cfac7c7": {
     "model_module": "@jupyter-widgets/controls",
     "model_module_version": "1.5.0",
     "model_name": "HBoxModel",
     "state": {
      "_dom_classes": [],
      "_model_module": "@jupyter-widgets/controls",
      "_model_module_version": "1.5.0",
      "_model_name": "HBoxModel",
      "_view_count": null,
      "_view_module": "@jupyter-widgets/controls",
      "_view_module_version": "1.5.0",
      "_view_name": "HBoxView",
      "box_style": "",
      "children": [
       "IPY_MODEL_3fb3e0fe97e54db99c0532a66911bc84",
       "IPY_MODEL_1add1e8945964e189c63557224b740fc",
       "IPY_MODEL_96bdac24271c490caeafed06be53e2fd"
      ],
      "layout": "IPY_MODEL_81ff9d16b3624054984a94baf2998fad"
     }
    },
    "bb65e7a00bbb44c6aa1ec72f33b64221": {
     "model_module": "@jupyter-widgets/controls",
     "model_module_version": "1.5.0",
     "model_name": "DescriptionStyleModel",
     "state": {
      "_model_module": "@jupyter-widgets/controls",
      "_model_module_version": "1.5.0",
      "_model_name": "DescriptionStyleModel",
      "_view_count": null,
      "_view_module": "@jupyter-widgets/base",
      "_view_module_version": "1.2.0",
      "_view_name": "StyleView",
      "description_width": ""
     }
    },
    "c0774078b6954b58afa08a657c648e37": {
     "model_module": "@jupyter-widgets/controls",
     "model_module_version": "1.5.0",
     "model_name": "ProgressStyleModel",
     "state": {
      "_model_module": "@jupyter-widgets/controls",
      "_model_module_version": "1.5.0",
      "_model_name": "ProgressStyleModel",
      "_view_count": null,
      "_view_module": "@jupyter-widgets/base",
      "_view_module_version": "1.2.0",
      "_view_name": "StyleView",
      "bar_color": null,
      "description_width": ""
     }
    },
    "c575ac2e09424c3f8fc76c924b1314f4": {
     "model_module": "@jupyter-widgets/controls",
     "model_module_version": "1.5.0",
     "model_name": "HTMLModel",
     "state": {
      "_dom_classes": [],
      "_model_module": "@jupyter-widgets/controls",
      "_model_module_version": "1.5.0",
      "_model_name": "HTMLModel",
      "_view_count": null,
      "_view_module": "@jupyter-widgets/controls",
      "_view_module_version": "1.5.0",
      "_view_name": "HTMLView",
      "description": "",
      "description_tooltip": null,
      "layout": "IPY_MODEL_4c2e235e63d64196964deec526f3784c",
      "placeholder": "​",
      "style": "IPY_MODEL_bb65e7a00bbb44c6aa1ec72f33b64221",
      "value": "100%"
     }
    },
    "c6d702c50e9840e69a9e75caf2bdb4b0": {
     "model_module": "@jupyter-widgets/base",
     "model_module_version": "1.2.0",
     "model_name": "LayoutModel",
     "state": {
      "_model_module": "@jupyter-widgets/base",
      "_model_module_version": "1.2.0",
      "_model_name": "LayoutModel",
      "_view_count": null,
      "_view_module": "@jupyter-widgets/base",
      "_view_module_version": "1.2.0",
      "_view_name": "LayoutView",
      "align_content": null,
      "align_items": null,
      "align_self": null,
      "border": null,
      "bottom": null,
      "display": null,
      "flex": null,
      "flex_flow": null,
      "grid_area": null,
      "grid_auto_columns": null,
      "grid_auto_flow": null,
      "grid_auto_rows": null,
      "grid_column": null,
      "grid_gap": null,
      "grid_row": null,
      "grid_template_areas": null,
      "grid_template_columns": null,
      "grid_template_rows": null,
      "height": null,
      "justify_content": null,
      "justify_items": null,
      "left": null,
      "margin": null,
      "max_height": null,
      "max_width": null,
      "min_height": null,
      "min_width": null,
      "object_fit": null,
      "object_position": null,
      "order": null,
      "overflow": null,
      "overflow_x": null,
      "overflow_y": null,
      "padding": null,
      "right": null,
      "top": null,
      "visibility": null,
      "width": null
     }
    },
    "e6f3d7eb344d40a4b9fd97a3617a94f9": {
     "model_module": "@jupyter-widgets/controls",
     "model_module_version": "1.5.0",
     "model_name": "DescriptionStyleModel",
     "state": {
      "_model_module": "@jupyter-widgets/controls",
      "_model_module_version": "1.5.0",
      "_model_name": "DescriptionStyleModel",
      "_view_count": null,
      "_view_module": "@jupyter-widgets/base",
      "_view_module_version": "1.2.0",
      "_view_name": "StyleView",
      "description_width": ""
     }
    },
    "ec425fa026f84d359130572ee193b14f": {
     "model_module": "@jupyter-widgets/controls",
     "model_module_version": "1.5.0",
     "model_name": "DescriptionStyleModel",
     "state": {
      "_model_module": "@jupyter-widgets/controls",
      "_model_module_version": "1.5.0",
      "_model_name": "DescriptionStyleModel",
      "_view_count": null,
      "_view_module": "@jupyter-widgets/base",
      "_view_module_version": "1.2.0",
      "_view_name": "StyleView",
      "description_width": ""
     }
    },
    "f3fc925008d64eb3af346326f11737cf": {
     "model_module": "@jupyter-widgets/controls",
     "model_module_version": "1.5.0",
     "model_name": "DescriptionStyleModel",
     "state": {
      "_model_module": "@jupyter-widgets/controls",
      "_model_module_version": "1.5.0",
      "_model_name": "DescriptionStyleModel",
      "_view_count": null,
      "_view_module": "@jupyter-widgets/base",
      "_view_module_version": "1.2.0",
      "_view_name": "StyleView",
      "description_width": ""
     }
    }
   }
  }
 },
 "nbformat": 4,
 "nbformat_minor": 5
}
