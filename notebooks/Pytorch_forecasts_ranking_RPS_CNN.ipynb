{
 "cells": [
  {
   "cell_type": "code",
   "execution_count": null,
   "id": "c62c18b4",
   "metadata": {
    "colab": {
     "base_uri": "https://localhost:8080/"
    },
    "id": "c62c18b4",
    "outputId": "76fbe2fe-68b5-40ec-9297-b754f070b96f"
   },
   "outputs": [],
   "source": [
    "# pip install watermark lightgbm plotly cufflinks numpy pandas optuna torch pandas_ta gluonts pandas_datareader"
   ]
  },
  {
   "cell_type": "code",
   "execution_count": null,
   "id": "s2Q0FzF2JQIh",
   "metadata": {
    "colab": {
     "base_uri": "https://localhost:8080/",
     "height": 1000
    },
    "id": "s2Q0FzF2JQIh",
    "outputId": "6b445e27-33e1-4bd5-899a-98f839863736"
   },
   "outputs": [],
   "source": [
    "# pip install -U git+https://github.com/unit8co/darts.git@master"
   ]
  },
  {
   "cell_type": "code",
   "execution_count": null,
   "id": "395fd930",
   "metadata": {},
   "outputs": [],
   "source": [
    "# pip install pytorch-forecasting==0.10.2"
   ]
  },
  {
   "cell_type": "code",
   "execution_count": null,
   "id": "129ffc3c",
   "metadata": {
    "id": "129ffc3c"
   },
   "outputs": [],
   "source": [
    "# 1. magic for inline plot\n",
    "# 2. magic to print version\n",
    "# 3. magic so that the notebook will reload external python modules\n",
    "# 4. magic to enable retina (high resolution) plots\n",
    "# https://gist.github.com/minrk/3301035\n",
    "%matplotlib inline\n",
    "%reload_ext watermark\n",
    "%config InlineBackend.figure_format='retina'"
   ]
  },
  {
   "cell_type": "code",
   "execution_count": null,
   "id": "df345767",
   "metadata": {
    "colab": {
     "base_uri": "https://localhost:8080/"
    },
    "id": "df345767",
    "outputId": "c1dfac25-33b8-48e7-e9bf-34341033439e"
   },
   "outputs": [],
   "source": [
    "%watermark"
   ]
  },
  {
   "cell_type": "code",
   "execution_count": null,
   "id": "cef1380f",
   "metadata": {},
   "outputs": [],
   "source": [
    "%load_ext autoreload\n",
    "%autoreload 2"
   ]
  },
  {
   "cell_type": "code",
   "execution_count": null,
   "id": "364f8efb",
   "metadata": {
    "id": "364f8efb"
   },
   "outputs": [],
   "source": [
    "# conda install -c conda-forge 'u8darts'"
   ]
  },
  {
   "cell_type": "markdown",
   "id": "8e31e795",
   "metadata": {
    "id": "8e31e795"
   },
   "source": [
    "### Library imports"
   ]
  },
  {
   "cell_type": "code",
   "execution_count": null,
   "id": "81b05fbe",
   "metadata": {
    "colab": {
     "base_uri": "https://localhost:8080/",
     "height": 17
    },
    "id": "81b05fbe",
    "outputId": "b6141785-035e-47ba-c0e2-150468a163e2"
   },
   "outputs": [],
   "source": [
    "import warnings\n",
    "warnings.filterwarnings('ignore')\n",
    "\n",
    "import os\n",
    "import darts\n",
    "import pandas as pd\n",
    "import numpy as np \n",
    "from datetime import datetime\n",
    "import numpy as np\n",
    "\n",
    "import plotly\n",
    "import plotly.express as px\n",
    "import plotly.graph_objects as go\n",
    "\n",
    "# pip install matplotlib==3.1.2\n",
    "import matplotlib\n",
    "import matplotlib.pyplot as plt\n",
    "\n",
    "import plotly.offline\n",
    "import cufflinks as cf\n",
    "cf.go_offline()\n",
    "cf.set_config_file(offline=False, world_readable=True)"
   ]
  },
  {
   "cell_type": "code",
   "execution_count": null,
   "id": "ae337963",
   "metadata": {},
   "outputs": [],
   "source": [
    "import copy\n",
    "from pathlib import Path\n",
    "import warnings\n",
    "\n",
    "import pytorch_lightning as pl\n",
    "from pytorch_lightning.callbacks import EarlyStopping, LearningRateMonitor\n",
    "from pytorch_lightning.loggers import TensorBoardLogger\n",
    "\n",
    "import torch\n",
    "import torch.nn.functional as F\n",
    "\n",
    "from pytorch_forecasting import Baseline, TemporalFusionTransformer, TimeSeriesDataSet\n",
    "from pytorch_forecasting.data import GroupNormalizer\n",
    "from pytorch_forecasting.metrics import SMAPE, PoissonLoss, QuantileLoss\n",
    "from pytorch_forecasting.models.temporal_fusion_transformer.tuning import optimize_hyperparameters"
   ]
  },
  {
   "cell_type": "code",
   "execution_count": null,
   "id": "f755d351",
   "metadata": {},
   "outputs": [],
   "source": [
    "# pip install -U \"u8darts[torch]\""
   ]
  },
  {
   "cell_type": "code",
   "execution_count": null,
   "id": "c8c94ba1",
   "metadata": {},
   "outputs": [],
   "source": [
    "import pytorch_forecasting\n",
    "pytorch_forecasting.__version__"
   ]
  },
  {
   "cell_type": "markdown",
   "id": "2e94c945",
   "metadata": {
    "id": "2e94c945"
   },
   "source": [
    "### Reproducibility"
   ]
  },
  {
   "cell_type": "code",
   "execution_count": null,
   "id": "a78e90ff",
   "metadata": {
    "colab": {
     "base_uri": "https://localhost:8080/"
    },
    "id": "a78e90ff",
    "outputId": "62d47171-1ec1-47e5-9d65-f98078071113"
   },
   "outputs": [],
   "source": [
    "pl.seed_everything(0)\n",
    "\n",
    "import random\n",
    "random.seed(0)\n",
    "\n",
    "import numpy as np\n",
    "np.random.seed(0)\n",
    "\n",
    "import torch\n",
    "torch.manual_seed(0)\n"
   ]
  },
  {
   "cell_type": "code",
   "execution_count": null,
   "id": "424cdf80",
   "metadata": {
    "colab": {
     "base_uri": "https://localhost:8080/",
     "height": 238
    },
    "id": "424cdf80",
    "outputId": "9548de8a-12cd-46da-f3f6-bdefbfadb8d0"
   },
   "outputs": [],
   "source": [
    "from pathlib import Path\n",
    "data_path = Path.cwd().parent / \"data\" \n",
    "df_m6 = pd.read_csv(data_path / \"template/M6_Universe.csv\", index_col=0)\n",
    "df_m6.head(5)"
   ]
  },
  {
   "cell_type": "code",
   "execution_count": null,
   "id": "a499885a",
   "metadata": {},
   "outputs": [],
   "source": [
    "stocks = df_m6[df_m6[\"class\"]==\"Stock\"][\"symbol\"].values\n",
    "etfs = df_m6[df_m6[\"class\"]==\"ETF\"][\"symbol\"].values"
   ]
  },
  {
   "cell_type": "code",
   "execution_count": null,
   "id": "216285c9",
   "metadata": {
    "id": "216285c9"
   },
   "outputs": [],
   "source": [
    "SAMPLE_SIZE = 100\n",
    "FORECAST_HORIZON = 20 #days\n",
    "PERIODS = 20"
   ]
  },
  {
   "cell_type": "code",
   "execution_count": null,
   "id": "ceaeecdf",
   "metadata": {},
   "outputs": [],
   "source": [
    "# import numpy as np\n",
    "# import pandas as pd\n",
    "# import yfinance as yf\n",
    "# import warnings\n",
    "\n",
    "# warnings.filterwarnings(\"ignore\")\n",
    "# pd.options.display.float_format = '{:.4%}'.format\n",
    "\n",
    "# # Date range\n",
    "# start = '2020-01-01'\n",
    "# end = '2022-04-30'\n",
    "\n",
    "# # Tickers of assets\n",
    "# df_m6 = pd.read_csv(\"M6_Universe.csv\", index_col=0)\n",
    "# df_m6.head(5)\n",
    "# assets = list(df_m6[\"symbol\"].values)\n",
    "\n",
    "# # Downloading data\n",
    "# data = yf.download(assets, start = start, end = end)\n",
    "# data = data.loc[:,('Adj Close', slice(None))]\n",
    "# data.columns = assets"
   ]
  },
  {
   "cell_type": "code",
   "execution_count": null,
   "id": "c3db6cc3",
   "metadata": {},
   "outputs": [],
   "source": [
    "pwd "
   ]
  },
  {
   "cell_type": "code",
   "execution_count": null,
   "id": "36bfa682",
   "metadata": {},
   "outputs": [],
   "source": [
    "import pyrootutils\n",
    "root = pyrootutils.setup_root(\"..\", dotenv=True, pythonpath=True)"
   ]
  },
  {
   "cell_type": "code",
   "execution_count": null,
   "id": "7a73d1cc",
   "metadata": {
    "colab": {
     "base_uri": "https://localhost:8080/",
     "height": 86,
     "referenced_widgets": [
      "b7d303b547924163acb02c690cfac7c7",
      "81ff9d16b3624054984a94baf2998fad",
      "3fb3e0fe97e54db99c0532a66911bc84",
      "1add1e8945964e189c63557224b740fc",
      "96bdac24271c490caeafed06be53e2fd",
      "f3fc925008d64eb3af346326f11737cf",
      "073685966c774b01953c0343bef00251",
      "c0774078b6954b58afa08a657c648e37",
      "4c3eb9334739464aaa3ef7b87c6369ac",
      "ec425fa026f84d359130572ee193b14f",
      "742a3ef153ee4c1fa4a7ced4c899c0e0"
     ]
    },
    "id": "7a73d1cc",
    "outputId": "da93f97c-de29-45a8-e6db-22020c88a06a"
   },
   "outputs": [],
   "source": [
    "from tqdm.notebook import tqdm\n",
    "from src.io import get_ticker_historical_data\n",
    "import pandas_datareader as pdr\n",
    "pdr.__version__\n",
    "\n",
    "directory = './tickers'\n",
    "save = False\n",
    "\n",
    "if not os.path.exists(directory):\n",
    "    os.makedirs(directory)\n",
    "\n",
    "tickers = df_m6[\"symbol\"].str.replace(\"FB\", \"META\").to_list()\n",
    "tickers_data = dict()\n",
    "from_date = pd.to_datetime(\"2018-01-01\")\n",
    "\n",
    "to_date = pd.Timestamp.today()\n",
    "to_date.tz_localize(tz='Europe/Moscow').tz_convert(tz='America/New_York')\n",
    "to_date.replace(hour=0, minute=0, second=0, microsecond=0)\n",
    "\n",
    "# to_date = pd.to_datetime(\"2022-04-30\")\n",
    "interval = '1d'\n",
    "\n",
    "for ticker in tqdm(tickers[:]): \n",
    "#     data = get_ticker_historical_data(ticker=ticker,\n",
    "#                                       from_date=from_date,\n",
    "#                                       to_date=to_date,\n",
    "#                                       interval=interval\n",
    "#                                       )\n",
    "    # This returns a data frame of scraped stock data from yahoo\n",
    "    data = pdr.DataReader(ticker, 'yahoo', from_date, to_date)\n",
    "    tickers_data[ticker] = data\n",
    "    if save:\n",
    "        data.reset_index().to_csv(os.path.join(directory,f'{ticker}_{interval}.csv'))"
   ]
  },
  {
   "cell_type": "code",
   "execution_count": null,
   "id": "18855186",
   "metadata": {},
   "outputs": [],
   "source": [
    "from typing import Optional\n",
    "from src.time_features import reindex_weekdays\n",
    "\n",
    "for k, df in tickers_data.items():\n",
    "    tickers_data[k] = reindex_weekdays(df, start_index=pd.to_datetime(\"2018-01-01\"))\n",
    "#     tickers_data[k] = tickers_data[k].fillna(\"bfill\")"
   ]
  },
  {
   "cell_type": "code",
   "execution_count": null,
   "id": "ba7acf77",
   "metadata": {},
   "outputs": [],
   "source": [
    "tickers_data[\"DRE\"].tail()"
   ]
  },
  {
   "cell_type": "code",
   "execution_count": null,
   "id": "07b7ef24",
   "metadata": {
    "id": "07b7ef24"
   },
   "outputs": [],
   "source": [
    "from src.ticket_features import calculate_pct_returns, calculate_log_returns, calculate_cum_log_returns, calculate_cum_pct_returns\n",
    "\n",
    "df = pd.DataFrame.from_dict({k: v['Adj Close'] for k, v in tickers_data.items()})\n",
    "df_cum_log_returns = df.apply(calculate_cum_log_returns, periods=PERIODS, axis=0)\n",
    "df_cum_prt_returns = df.apply(calculate_cum_pct_returns, periods=PERIODS, axis=0)\n",
    "df_log_returns = df.apply(calculate_log_returns, periods=PERIODS, axis=0)\n",
    "df_prc_returns = df.apply(calculate_pct_returns, periods=PERIODS, axis=0)"
   ]
  },
  {
   "cell_type": "markdown",
   "id": "895b84c0",
   "metadata": {
    "id": "895b84c0"
   },
   "source": [
    "### Reindex dates and fill in with previous values "
   ]
  },
  {
   "cell_type": "code",
   "execution_count": null,
   "id": "966c7f40",
   "metadata": {},
   "outputs": [],
   "source": [
    "# df_stock_returns_quantiles = reindex_weekdays(df.copy(), drop_nonweekdays=True)\n",
    "df_stock_returns_quantiles = (df.copy()\n",
    "                              .apply(calculate_pct_returns, periods=PERIODS, axis=0)\n",
    "                              .apply(lambda x: x + np.random.normal(0, 1e-12, size=(100)), axis=1)\n",
    "                              .dropna()\n",
    "                              .rank(1, ascending=True, method='min') // (20.+1e-12) + 1).clip(upper=5).astype(int)\n",
    "df_stock_returns_quantiles -= 1"
   ]
  },
  {
   "cell_type": "code",
   "execution_count": null,
   "id": "d36d157b",
   "metadata": {
    "colab": {
     "base_uri": "https://localhost:8080/"
    },
    "id": "d36d157b",
    "outputId": "07fb0ac2-5688-4a96-ff8f-ad762a51e473"
   },
   "outputs": [],
   "source": [
    "# Make a pipeline with the steps\n",
    "from sklearn.pipeline import Pipeline, FeatureUnion, make_pipeline\n",
    "from src.transformers import DateTimeTransformer, periodic_spline_transformer\n",
    "from src.reduce_memory import ReduceMemoryTransformer\n",
    "from sklearn.compose import ColumnTransformer\n",
    "from sklearn.preprocessing import MinMaxScaler, StandardScaler\n",
    "from src.time_features import get_datetime_covariates\n",
    "from src.strategy import CustomStrategy1, CustomStrategy\n",
    "from src.ticket_features import upper_shadow, lower_shadow, upper_shadow_percent, lower_shadow_percent\n",
    "\n",
    "tickers_data_enriched = {}\n",
    "\n",
    "date_time_transforms = make_pipeline(\n",
    "    DateTimeTransformer()\n",
    ")\n",
    "\n",
    "memory_transforms = make_pipeline(\n",
    "    ReduceMemoryTransformer()\n",
    ")\n",
    "\n",
    "for k, v in tickers_data.items():\n",
    "    df = v.copy()\n",
    "    #df = reindex_weekdays(df, drop_nonweekdays=True, start_index=pd.to_datetime(\"2018-01-01\"))\n",
    "    # df.ta.strategy(CustomStrategy)\n",
    "    # df.ta.percent_return(cumulative=False, append=True)\n",
    "    # df.ta.percent_return(cumulative=False, length=PERIODS, append=True)\n",
    "    # df[f\"cum_log_returns_{PERIODS}\"] = df[[\"Adj Close\"]].apply(calculate_cum_log_returns, periods=PERIODS, axis=0).values\n",
    "    # df[f\"log_returns_{PERIODS}\"] = df[[\"Adj Close\"]].apply(calculate_log_returns, periods=PERIODS, axis=0).values\n",
    "    # df[f\"cum_prc_returns_{PERIODS}\"] = df[[\"Adj Close\"]].apply(calculate_cum_pct_returns, periods=PERIODS, axis=0).values\n",
    "    # df[f\"prc_returns_{PERIODS}\"] = df[[\"Adj Close\"]].apply(calculate_pct_returns, periods=PERIODS, axis=0).values\n",
    "    df['high2low'] = df['High'] / df['Low']\n",
    "    df['high_low'] = df['High'] - df['Low']\n",
    "    # df[f'var_{PERIODS}'] = df['Adj Close'].rolling(20).var()\n",
    "#     df['target_var'] = df[f'PCTRET_{PERIODS}'].var()\n",
    "    df['upper_shadow'] = upper_shadow(df)\n",
    "    df['lower_shadow'] = lower_shadow(df)\n",
    "    df['upper_shadow_percent'] = upper_shadow_percent(df)\n",
    "    df['lower_shadow_percent'] = lower_shadow_percent(df)    \n",
    "    df[\"log_volume\"] = np.log(df[\"Volume\"] + 1e-8)\n",
    "    df[\"log_high\"] = np.log(df[\"High\"] + 1e-8)\n",
    "    df[\"log_low\"] = np.log(df[\"Low\"] + 1e-8)\n",
    "    df = df.fillna(method=\"bfill\")\n",
    "    df = memory_transforms.fit_transform(df)\n",
    "    \n",
    "#     df[\"GICS_sector/ETF_type\"] = df_m6[df_m6[\"symbol\"]==k][\"GICS_sector/ETF_type\"].values[0]\n",
    "#     df[\"GICS_industry/ETF_subtype\"] = df_m6[df_m6[\"symbol\"]==k][\"GICS_industry/ETF_subtype\"].values[0]\n",
    "    df[\"group\"] = k\n",
    "#     df[\"ticket\"] = \"stock\" if k in stocks else \"etf\"\n",
    "    #df[\"month\"] = df.index.month #.astype(str).astype(\"category\")  # categories have be strings\n",
    "    #df[\"day_of_week\"] = df.index.day_of_week #.astype(str).astype(\"category\")  # categories have be strings\n",
    "    #     scaler = MinMaxScaler() #StandardScaler()\n",
    "    #     df_scaled = pd.DataFrame(data=scaler.fit_transform(df), \n",
    "    #                              index=df.index,\n",
    "    #                              columns=df.columns)\n",
    "    #     df_scaled.dropna(inplace=True)\n",
    "    #     tickers_data_enriched[k] = df_scaled\n",
    "    tickers_data_enriched[k] = df#[df_stock_returns_quantiles.index[0]:]"
   ]
  },
  {
   "cell_type": "code",
   "execution_count": null,
   "id": "9eb586fb",
   "metadata": {},
   "outputs": [],
   "source": [
    "start_index = pd.to_datetime(\"2019-12-01\") #df_stock_returns_quantiles.index[0]\n",
    "end_index = df_stock_returns_quantiles.index[-1]\n",
    "\n",
    "covariates = get_datetime_covariates(start_index, end_index)\n",
    "covariates = reindex_weekdays(covariates, drop_nonweekdays=True)"
   ]
  },
  {
   "cell_type": "code",
   "execution_count": null,
   "id": "808949eb",
   "metadata": {},
   "outputs": [],
   "source": [
    "# tickers_data_enriched = {k: tickers_data_enriched[k].drop(\"group\", axis=1) for k in tickers_data_enriched.keys()}"
   ]
  },
  {
   "cell_type": "code",
   "execution_count": null,
   "id": "6f4e4a9a",
   "metadata": {},
   "outputs": [],
   "source": [
    "data = pd.concat([pd.concat(\n",
    "    [df_stock_returns_quantiles[[k]].astype(int).rename(columns={k: \"target\"}),\n",
    "     tickers_data_enriched[k].shift(PERIODS), \n",
    "     #covariates.shift(PERIODS)\n",
    "     ], axis=1).dropna(how=\"all\", axis=0)\n",
    "                  for k in tickers_data_enriched.keys()])"
   ]
  },
  {
   "cell_type": "code",
   "execution_count": null,
   "id": "73671e61",
   "metadata": {},
   "outputs": [],
   "source": [
    "data = data.dropna()"
   ]
  },
  {
   "cell_type": "code",
   "execution_count": null,
   "id": "b1aa7df8",
   "metadata": {},
   "outputs": [],
   "source": [
    "data.index[int((data.shape[0]/100)*0.5)]"
   ]
  },
  {
   "cell_type": "code",
   "execution_count": null,
   "id": "42cdf331",
   "metadata": {},
   "outputs": [],
   "source": [
    "from datetime import timedelta\n",
    "\n",
    "train_start = data.index[0] #data[data[\"group\"]==\"OGN\"].dropna().index[0]\n",
    "test_end = data.index[-1] #data[data[\"group\"]==\"IUMO.L\"].dropna().index[-1]\n",
    "\n",
    "# train_start = data.loc[data.index[data.index.get_level_values(0)==\"OGN\"]].index#[0][1]\n",
    "# test_end = groupby.loc[groupby.index[groupby.index.get_level_values(0)==\"IUMO.L\"]].index[-1][1]\n",
    "#train_start = pd.Timestamp('2021-07-10 00:00:00')\n",
    "training_cutoff = data.index[int((data.shape[0]/100)*0.5)] #data.index.max() - timedelta(days=3*FORECAST_HORIZON)\n",
    "test_cutoff = training_cutoff + timedelta(days=1) - timedelta(days=20)\n",
    "training_cutoff"
   ]
  },
  {
   "cell_type": "code",
   "execution_count": null,
   "id": "ca66b1f7",
   "metadata": {},
   "outputs": [],
   "source": [
    "groupby = data.groupby(\"group\")\n",
    "from sklearn.model_selection import train_test_split\n",
    "\n",
    "# Split data into 50% train and 50% test subsets\n",
    "# X_train, X_test, y_train, y_test = train_test_split(\n",
    "#     data, digits.target, test_size=0.5, shuffle=False\n",
    "# )\n",
    "\n",
    "groupby_train = groupby.apply(lambda group: group.loc[train_start:training_cutoff].drop([\"group\"], axis=1))\n",
    "groupby_test = groupby.apply(lambda group: group.loc[test_cutoff:test_end].drop([\"group\"], axis=1))"
   ]
  },
  {
   "cell_type": "code",
   "execution_count": null,
   "id": "d6d857bf",
   "metadata": {},
   "outputs": [],
   "source": [
    "groupby_train.index.get_level_values(1).dayofweek.unique()"
   ]
  },
  {
   "cell_type": "code",
   "execution_count": null,
   "id": "ec2d7bcc",
   "metadata": {},
   "outputs": [],
   "source": [
    "from sklearn.preprocessing import MinMaxScaler\n",
    "\n",
    "X_scaler = MinMaxScaler()\n",
    "\n",
    "X_train = X_scaler.fit_transform(groupby_train.drop([\"target\"], axis=1).values)\n",
    "\n",
    "# print(X_scaler.data_max_)\n",
    "\n",
    "X_test = X_scaler.transform(groupby_test.drop([\"target\"], axis=1).values)"
   ]
  },
  {
   "cell_type": "code",
   "execution_count": null,
   "id": "9ca6d0bf",
   "metadata": {},
   "outputs": [],
   "source": [
    "groupby_train.loc[:, groupby_train.columns!=\"target\"] = X_train\n",
    "groupby_test.loc[:, groupby_test.columns!=\"target\"] = X_test"
   ]
  },
  {
   "cell_type": "code",
   "execution_count": null,
   "id": "6fdc7a08",
   "metadata": {},
   "outputs": [],
   "source": [
    "import tqdm \n",
    "dates = groupby_train.index.get_level_values(1).unique()\n",
    "tickets = groupby_train.index.get_level_values(0).unique()\n",
    "\n",
    "train_batches_X, train_batches_Y = [], []\n",
    "LOOK_BACK = 20\n",
    "for i in tqdm.tqdm(range(len(dates)-LOOK_BACK)):\n",
    "    start = dates[i].date()\n",
    "    end = dates[i+FORECAST_HORIZON-1].date()\n",
    "    next_target = dates[i+FORECAST_HORIZON].date()\n",
    "    print(f\"{start}:{end} => {next_target}\")\n",
    "    train_batch_X, train_batch_Y = [], []\n",
    "    for ticket in tickets:\n",
    "        df_ = groupby_train.xs(slice(start, end), level=1)\n",
    "        df_X = df_.loc[df_.index==ticket, groupby_train.columns!=\"target\"].astype(np.float16)\n",
    "        if df_X.shape!=(LOOK_BACK, groupby_train.shape[1]-1):\n",
    "            print(f\"{ticket} shape: {df_X.shape}\")\n",
    "        df_ = groupby_train.xs(slice(next_target, next_target), level=1)\n",
    "        df_Y = df_.loc[df_.index==ticket, groupby_train.columns==\"target\"].astype(int)\n",
    "        train_batch_X.append(df_X.values.tolist())\n",
    "        train_batch_Y.append(df_Y.values.tolist())\n",
    "    train_batches_X.append(train_batch_X)\n",
    "    train_batches_Y.append(train_batch_Y)\n",
    "\n",
    "# for index in groupby_train.index.get_level_values(1)[:-20:]:\n",
    "#     print(f\"{index.date()}:{index.date() + timedelta(days=20)}\")"
   ]
  },
  {
   "cell_type": "code",
   "execution_count": null,
   "id": "f660f6be",
   "metadata": {},
   "outputs": [],
   "source": [
    "import tqdm \n",
    "dates = groupby_test.index.get_level_values(1).unique()\n",
    "tickets = groupby_test.index.get_level_values(0).unique()\n",
    "\n",
    "test_batches_X, test_batches_Y = [], []\n",
    "LOOK_BACK = 20\n",
    "for i in tqdm.tqdm(range(len(dates)-LOOK_BACK)):\n",
    "    start = dates[i].date()\n",
    "    end = dates[i+FORECAST_HORIZON-1].date()\n",
    "    next_target = dates[i+FORECAST_HORIZON].date()\n",
    "    print(f\"{start}:{end} => {next_target}\")\n",
    "    test_batch_X, test_batch_Y = [], []\n",
    "    for ticket in tickets:\n",
    "        df_ = groupby_test.xs(slice(start, end), level=1)\n",
    "        df_X = df_.loc[df_.index==ticket, groupby_test.columns!=\"target\"].astype(np.float16)\n",
    "        if df_X.shape!=(LOOK_BACK, groupby_train.shape[1]-1):\n",
    "            print(f\"{ticket} shape: {df_X.shape}\")\n",
    "        df_ = groupby_test.xs(slice(next_target, next_target), level=1)\n",
    "        df_Y = df_.loc[df_.index==ticket, groupby_test.columns==\"target\"].astype(int)\n",
    "        if df_Y.empty:\n",
    "            print(f\"{ticket}\")#\" shape: {df_Y.shape}\")\n",
    "            print(df_Y.values)\n",
    "        test_batch_X.append(df_X.values.tolist())\n",
    "        test_batch_Y.append(df_Y.values.tolist())\n",
    "    test_batches_X.append(test_batch_X)\n",
    "    test_batches_Y.append(test_batch_Y)\n",
    "\n",
    "# for index in groupby_train.index.get_level_values(1)[:-20:]:\n",
    "#     print(f\"{index.date()}:{index.date() + timedelta(days=20)}\")"
   ]
  },
  {
   "cell_type": "code",
   "execution_count": null,
   "id": "139babeb",
   "metadata": {},
   "outputs": [],
   "source": [
    "\n",
    "device = \"cuda\" if torch.cuda.is_available() else \"cpu\"\n",
    "print(f\"Using {device} device\")\n",
    "\n",
    "train_batches_X = torch.tensor(train_batches_X, dtype=torch.float32, device=device)\n",
    "train_batches_Y = torch.tensor(train_batches_Y, dtype=torch.int64, device=device)\n",
    "test_batches_X = torch.tensor(test_batches_X, dtype=torch.float32, device=device)\n",
    "test_batches_Y = torch.tensor(test_batches_Y, dtype=torch.int64, device=device)"
   ]
  },
  {
   "cell_type": "code",
   "execution_count": null,
   "id": "13675ef0",
   "metadata": {},
   "outputs": [],
   "source": [
    "import numpy as np\n",
    "import torch\n",
    "import torch.nn as nn\n",
    "import torch.nn.functional as F\n",
    "from src.mv_cnn_train_utils import RPSLoss, train_model, run_epoch, batchify_data\n",
    "\n",
    "batch_size = 32\n",
    "\n",
    "X_train, y_train, X_test, y_test = train_batches_X, train_batches_Y, test_batches_X, test_batches_Y\n",
    "# Split into train and dev\n",
    "dev_split_index = int(8 * len(X_train) / 10)\n",
    "X_dev = X_train[dev_split_index:,:,:,:]\n",
    "y_dev = y_train[dev_split_index:,:,:,:]\n",
    "X_train = X_train[:dev_split_index,:,:,:]\n",
    "y_train = y_train[:dev_split_index,:,:,:]\n",
    "\n",
    "# Split dataset into batches\n",
    "train_batches = batchify_data(X_train, y_train, batch_size)\n",
    "dev_batches = batchify_data(X_dev, y_dev, batch_size)\n",
    "test_batches = batchify_data(X_test, y_test, batch_size)"
   ]
  },
  {
   "cell_type": "code",
   "execution_count": null,
   "id": "eab8cd99",
   "metadata": {},
   "outputs": [],
   "source": [
    "from src.mv_cnn_model import MultivariateCNN, MultivariateMLP\n",
    "import torch\n",
    "# Load model\n",
    "N_CLASSES = 5\n",
    "N_SERIES = train_batches_X[0].shape[0]\n",
    "N_DIM1 = train_batches_X[0].shape[1]\n",
    "N_DIM2 = train_batches_X[0].shape[2]\n",
    "\n",
    "model = MultivariateCNN(input_dimension=(N_DIM1, N_DIM2), in_channels=N_SERIES, n_outputs=N_CLASSES, \n",
    "                        n_cnn_layers=2, conv_kernel_size=3, pool_kernel_size=2\n",
    "                       ).to(device)\n",
    "\n",
    "# model = MultivariateMLP(input_dimension=(N_DIM1, N_DIM2), in_channels=N_SERIES, n_outputs=N_CLASSES).to(device)\n",
    "print(model)\n",
    "\n",
    "# We optimize with SGD\n",
    "# optimizer = torch.optim.SGD(\n",
    "#     model.parameters(), lr=0.1, momentum=0.9, nesterov=False\n",
    "# )\n",
    "optimizer = torch.optim.Adam(model.parameters(), lr=0.01)\n",
    "\n",
    "# Train\n",
    "model = train_model(train_batches, dev_batches, model, optimizer, n_epochs=100)\n",
    "\n",
    "# Save model\n",
    "# torch.save(model, 'cnn_model.pt')"
   ]
  },
  {
   "cell_type": "code",
   "execution_count": null,
   "id": "b864df5c",
   "metadata": {},
   "outputs": [],
   "source": [
    "## Evaluate the model on test data\n",
    "loss = run_epoch(test_batches, model.eval(), None)\n",
    "print(f\"Valid | mean loss {np.mean(loss):.6f} | std loss: {np.std(loss):.6f}\")"
   ]
  },
  {
   "cell_type": "code",
   "execution_count": null,
   "id": "bfb6b471",
   "metadata": {},
   "outputs": [],
   "source": [
    "## Evaluate the model on test data\n",
    "loss = run_epoch(test_batches, model.eval(), None)\n",
    "[print('Valid | loss{}: {:.6f} '.format(i, loss[i])) for i in range(len(loss))]"
   ]
  },
  {
   "cell_type": "code",
   "execution_count": null,
   "id": "37e02bbb",
   "metadata": {},
   "outputs": [],
   "source": [
    "np.where(np.array(loss)<0.15, np.array(loss), 0.16).mean()"
   ]
  },
  {
   "cell_type": "code",
   "execution_count": null,
   "id": "1b1c5a97",
   "metadata": {},
   "outputs": [],
   "source": [
    "x, y = train_batches[0]['x'], train_batches[0]['y']\n",
    "preds = model(x)\n",
    "preds#.shape"
   ]
  },
  {
   "cell_type": "code",
   "execution_count": null,
   "id": "ae6d9608",
   "metadata": {},
   "outputs": [],
   "source": [
    "F.softmax(preds[0], dim=1)"
   ]
  },
  {
   "cell_type": "code",
   "execution_count": null,
   "id": "60a17aab",
   "metadata": {},
   "outputs": [],
   "source": [
    "diff = torch.cumsum(F.softmax(preds[0], dim=-1), dim=-1) - torch.cumsum(F.one_hot(y[:,1,0,0].to(torch.int64), num_classes=5), dim=-1)"
   ]
  },
  {
   "cell_type": "code",
   "execution_count": null,
   "id": "f730b49d",
   "metadata": {},
   "outputs": [],
   "source": [
    "torch.mean(torch.stack([torch.mean(diff**2, dim=0), torch.mean(diff**2, dim=0)]))#, axis=1)"
   ]
  },
  {
   "cell_type": "code",
   "execution_count": null,
   "id": "6efea998",
   "metadata": {},
   "outputs": [],
   "source": [
    "torch.mean(diff, axis=1)#.detach().numpy().mean()"
   ]
  },
  {
   "cell_type": "code",
   "execution_count": null,
   "id": "8d4edbde",
   "metadata": {},
   "outputs": [],
   "source": []
  }
 ],
 "metadata": {
  "colab": {
   "collapsed_sections": [
    "dc63743e"
   ],
   "name": "Darts forecasts.ipynb",
   "provenance": [],
   "toc_visible": true
  },
  "kernelspec": {
   "display_name": "Python 3.8.12 ('datascience')",
   "language": "python",
   "name": "python3"
  },
  "language_info": {
   "codemirror_mode": {
    "name": "ipython",
    "version": 3
   },
   "file_extension": ".py",
   "mimetype": "text/x-python",
   "name": "python",
   "nbconvert_exporter": "python",
   "pygments_lexer": "ipython3",
   "version": "3.8.12"
  },
  "vscode": {
   "interpreter": {
    "hash": "c8e0bb0da2aff65736b499a73199d9b3916fe5784b22bc0d777fb56d771df7b1"
   }
  },
  "widgets": {
   "application/vnd.jupyter.widget-state+json": {
    "073685966c774b01953c0343bef00251": {
     "model_module": "@jupyter-widgets/base",
     "model_module_version": "1.2.0",
     "model_name": "LayoutModel",
     "state": {
      "_model_module": "@jupyter-widgets/base",
      "_model_module_version": "1.2.0",
      "_model_name": "LayoutModel",
      "_view_count": null,
      "_view_module": "@jupyter-widgets/base",
      "_view_module_version": "1.2.0",
      "_view_name": "LayoutView",
      "align_content": null,
      "align_items": null,
      "align_self": null,
      "border": null,
      "bottom": null,
      "display": null,
      "flex": null,
      "flex_flow": null,
      "grid_area": null,
      "grid_auto_columns": null,
      "grid_auto_flow": null,
      "grid_auto_rows": null,
      "grid_column": null,
      "grid_gap": null,
      "grid_row": null,
      "grid_template_areas": null,
      "grid_template_columns": null,
      "grid_template_rows": null,
      "height": null,
      "justify_content": null,
      "justify_items": null,
      "left": null,
      "margin": null,
      "max_height": null,
      "max_width": null,
      "min_height": null,
      "min_width": null,
      "object_fit": null,
      "object_position": null,
      "order": null,
      "overflow": null,
      "overflow_x": null,
      "overflow_y": null,
      "padding": null,
      "right": null,
      "top": null,
      "visibility": null,
      "width": null
     }
    },
    "08db2b9a48c542adbe8cc7e06bb31871": {
     "model_module": "@jupyter-widgets/controls",
     "model_module_version": "1.5.0",
     "model_name": "FloatProgressModel",
     "state": {
      "_dom_classes": [],
      "_model_module": "@jupyter-widgets/controls",
      "_model_module_version": "1.5.0",
      "_model_name": "FloatProgressModel",
      "_view_count": null,
      "_view_module": "@jupyter-widgets/controls",
      "_view_module_version": "1.5.0",
      "_view_name": "ProgressView",
      "bar_style": "success",
      "description": "",
      "description_tooltip": null,
      "layout": "IPY_MODEL_c6d702c50e9840e69a9e75caf2bdb4b0",
      "max": 100,
      "min": 0,
      "orientation": "horizontal",
      "style": "IPY_MODEL_4d8362c0442e446abcd1f36928c2b8e9",
      "value": 100
     }
    },
    "1add1e8945964e189c63557224b740fc": {
     "model_module": "@jupyter-widgets/controls",
     "model_module_version": "1.5.0",
     "model_name": "FloatProgressModel",
     "state": {
      "_dom_classes": [],
      "_model_module": "@jupyter-widgets/controls",
      "_model_module_version": "1.5.0",
      "_model_name": "FloatProgressModel",
      "_view_count": null,
      "_view_module": "@jupyter-widgets/controls",
      "_view_module_version": "1.5.0",
      "_view_name": "ProgressView",
      "bar_style": "success",
      "description": "",
      "description_tooltip": null,
      "layout": "IPY_MODEL_4c3eb9334739464aaa3ef7b87c6369ac",
      "max": 100,
      "min": 0,
      "orientation": "horizontal",
      "style": "IPY_MODEL_c0774078b6954b58afa08a657c648e37",
      "value": 100
     }
    },
    "3fb3e0fe97e54db99c0532a66911bc84": {
     "model_module": "@jupyter-widgets/controls",
     "model_module_version": "1.5.0",
     "model_name": "HTMLModel",
     "state": {
      "_dom_classes": [],
      "_model_module": "@jupyter-widgets/controls",
      "_model_module_version": "1.5.0",
      "_model_name": "HTMLModel",
      "_view_count": null,
      "_view_module": "@jupyter-widgets/controls",
      "_view_module_version": "1.5.0",
      "_view_name": "HTMLView",
      "description": "",
      "description_tooltip": null,
      "layout": "IPY_MODEL_073685966c774b01953c0343bef00251",
      "placeholder": "​",
      "style": "IPY_MODEL_f3fc925008d64eb3af346326f11737cf",
      "value": "100%"
     }
    },
    "4c2e235e63d64196964deec526f3784c": {
     "model_module": "@jupyter-widgets/base",
     "model_module_version": "1.2.0",
     "model_name": "LayoutModel",
     "state": {
      "_model_module": "@jupyter-widgets/base",
      "_model_module_version": "1.2.0",
      "_model_name": "LayoutModel",
      "_view_count": null,
      "_view_module": "@jupyter-widgets/base",
      "_view_module_version": "1.2.0",
      "_view_name": "LayoutView",
      "align_content": null,
      "align_items": null,
      "align_self": null,
      "border": null,
      "bottom": null,
      "display": null,
      "flex": null,
      "flex_flow": null,
      "grid_area": null,
      "grid_auto_columns": null,
      "grid_auto_flow": null,
      "grid_auto_rows": null,
      "grid_column": null,
      "grid_gap": null,
      "grid_row": null,
      "grid_template_areas": null,
      "grid_template_columns": null,
      "grid_template_rows": null,
      "height": null,
      "justify_content": null,
      "justify_items": null,
      "left": null,
      "margin": null,
      "max_height": null,
      "max_width": null,
      "min_height": null,
      "min_width": null,
      "object_fit": null,
      "object_position": null,
      "order": null,
      "overflow": null,
      "overflow_x": null,
      "overflow_y": null,
      "padding": null,
      "right": null,
      "top": null,
      "visibility": null,
      "width": null
     }
    },
    "4c3eb9334739464aaa3ef7b87c6369ac": {
     "model_module": "@jupyter-widgets/base",
     "model_module_version": "1.2.0",
     "model_name": "LayoutModel",
     "state": {
      "_model_module": "@jupyter-widgets/base",
      "_model_module_version": "1.2.0",
      "_model_name": "LayoutModel",
      "_view_count": null,
      "_view_module": "@jupyter-widgets/base",
      "_view_module_version": "1.2.0",
      "_view_name": "LayoutView",
      "align_content": null,
      "align_items": null,
      "align_self": null,
      "border": null,
      "bottom": null,
      "display": null,
      "flex": null,
      "flex_flow": null,
      "grid_area": null,
      "grid_auto_columns": null,
      "grid_auto_flow": null,
      "grid_auto_rows": null,
      "grid_column": null,
      "grid_gap": null,
      "grid_row": null,
      "grid_template_areas": null,
      "grid_template_columns": null,
      "grid_template_rows": null,
      "height": null,
      "justify_content": null,
      "justify_items": null,
      "left": null,
      "margin": null,
      "max_height": null,
      "max_width": null,
      "min_height": null,
      "min_width": null,
      "object_fit": null,
      "object_position": null,
      "order": null,
      "overflow": null,
      "overflow_x": null,
      "overflow_y": null,
      "padding": null,
      "right": null,
      "top": null,
      "visibility": null,
      "width": null
     }
    },
    "4d8362c0442e446abcd1f36928c2b8e9": {
     "model_module": "@jupyter-widgets/controls",
     "model_module_version": "1.5.0",
     "model_name": "ProgressStyleModel",
     "state": {
      "_model_module": "@jupyter-widgets/controls",
      "_model_module_version": "1.5.0",
      "_model_name": "ProgressStyleModel",
      "_view_count": null,
      "_view_module": "@jupyter-widgets/base",
      "_view_module_version": "1.2.0",
      "_view_name": "StyleView",
      "bar_color": null,
      "description_width": ""
     }
    },
    "53173af3160b4b758ed2c33d3b554008": {
     "model_module": "@jupyter-widgets/controls",
     "model_module_version": "1.5.0",
     "model_name": "HTMLModel",
     "state": {
      "_dom_classes": [],
      "_model_module": "@jupyter-widgets/controls",
      "_model_module_version": "1.5.0",
      "_model_name": "HTMLModel",
      "_view_count": null,
      "_view_module": "@jupyter-widgets/controls",
      "_view_module_version": "1.5.0",
      "_view_name": "HTMLView",
      "description": "",
      "description_tooltip": null,
      "layout": "IPY_MODEL_75bdf511cc3242eaae63569a7d40f4b6",
      "placeholder": "​",
      "style": "IPY_MODEL_e6f3d7eb344d40a4b9fd97a3617a94f9",
      "value": " 100/100 [00:05&lt;00:00, 20.52it/s]"
     }
    },
    "5b705b8c225d4d76b46b50c9f510a40e": {
     "model_module": "@jupyter-widgets/controls",
     "model_module_version": "1.5.0",
     "model_name": "HBoxModel",
     "state": {
      "_dom_classes": [],
      "_model_module": "@jupyter-widgets/controls",
      "_model_module_version": "1.5.0",
      "_model_name": "HBoxModel",
      "_view_count": null,
      "_view_module": "@jupyter-widgets/controls",
      "_view_module_version": "1.5.0",
      "_view_name": "HBoxView",
      "box_style": "",
      "children": [
       "IPY_MODEL_c575ac2e09424c3f8fc76c924b1314f4",
       "IPY_MODEL_08db2b9a48c542adbe8cc7e06bb31871",
       "IPY_MODEL_53173af3160b4b758ed2c33d3b554008"
      ],
      "layout": "IPY_MODEL_86f69349b4b94dc68923fbcd72d1a2b1"
     }
    },
    "742a3ef153ee4c1fa4a7ced4c899c0e0": {
     "model_module": "@jupyter-widgets/base",
     "model_module_version": "1.2.0",
     "model_name": "LayoutModel",
     "state": {
      "_model_module": "@jupyter-widgets/base",
      "_model_module_version": "1.2.0",
      "_model_name": "LayoutModel",
      "_view_count": null,
      "_view_module": "@jupyter-widgets/base",
      "_view_module_version": "1.2.0",
      "_view_name": "LayoutView",
      "align_content": null,
      "align_items": null,
      "align_self": null,
      "border": null,
      "bottom": null,
      "display": null,
      "flex": null,
      "flex_flow": null,
      "grid_area": null,
      "grid_auto_columns": null,
      "grid_auto_flow": null,
      "grid_auto_rows": null,
      "grid_column": null,
      "grid_gap": null,
      "grid_row": null,
      "grid_template_areas": null,
      "grid_template_columns": null,
      "grid_template_rows": null,
      "height": null,
      "justify_content": null,
      "justify_items": null,
      "left": null,
      "margin": null,
      "max_height": null,
      "max_width": null,
      "min_height": null,
      "min_width": null,
      "object_fit": null,
      "object_position": null,
      "order": null,
      "overflow": null,
      "overflow_x": null,
      "overflow_y": null,
      "padding": null,
      "right": null,
      "top": null,
      "visibility": null,
      "width": null
     }
    },
    "75bdf511cc3242eaae63569a7d40f4b6": {
     "model_module": "@jupyter-widgets/base",
     "model_module_version": "1.2.0",
     "model_name": "LayoutModel",
     "state": {
      "_model_module": "@jupyter-widgets/base",
      "_model_module_version": "1.2.0",
      "_model_name": "LayoutModel",
      "_view_count": null,
      "_view_module": "@jupyter-widgets/base",
      "_view_module_version": "1.2.0",
      "_view_name": "LayoutView",
      "align_content": null,
      "align_items": null,
      "align_self": null,
      "border": null,
      "bottom": null,
      "display": null,
      "flex": null,
      "flex_flow": null,
      "grid_area": null,
      "grid_auto_columns": null,
      "grid_auto_flow": null,
      "grid_auto_rows": null,
      "grid_column": null,
      "grid_gap": null,
      "grid_row": null,
      "grid_template_areas": null,
      "grid_template_columns": null,
      "grid_template_rows": null,
      "height": null,
      "justify_content": null,
      "justify_items": null,
      "left": null,
      "margin": null,
      "max_height": null,
      "max_width": null,
      "min_height": null,
      "min_width": null,
      "object_fit": null,
      "object_position": null,
      "order": null,
      "overflow": null,
      "overflow_x": null,
      "overflow_y": null,
      "padding": null,
      "right": null,
      "top": null,
      "visibility": null,
      "width": null
     }
    },
    "81ff9d16b3624054984a94baf2998fad": {
     "model_module": "@jupyter-widgets/base",
     "model_module_version": "1.2.0",
     "model_name": "LayoutModel",
     "state": {
      "_model_module": "@jupyter-widgets/base",
      "_model_module_version": "1.2.0",
      "_model_name": "LayoutModel",
      "_view_count": null,
      "_view_module": "@jupyter-widgets/base",
      "_view_module_version": "1.2.0",
      "_view_name": "LayoutView",
      "align_content": null,
      "align_items": null,
      "align_self": null,
      "border": null,
      "bottom": null,
      "display": null,
      "flex": null,
      "flex_flow": null,
      "grid_area": null,
      "grid_auto_columns": null,
      "grid_auto_flow": null,
      "grid_auto_rows": null,
      "grid_column": null,
      "grid_gap": null,
      "grid_row": null,
      "grid_template_areas": null,
      "grid_template_columns": null,
      "grid_template_rows": null,
      "height": null,
      "justify_content": null,
      "justify_items": null,
      "left": null,
      "margin": null,
      "max_height": null,
      "max_width": null,
      "min_height": null,
      "min_width": null,
      "object_fit": null,
      "object_position": null,
      "order": null,
      "overflow": null,
      "overflow_x": null,
      "overflow_y": null,
      "padding": null,
      "right": null,
      "top": null,
      "visibility": null,
      "width": null
     }
    },
    "86f69349b4b94dc68923fbcd72d1a2b1": {
     "model_module": "@jupyter-widgets/base",
     "model_module_version": "1.2.0",
     "model_name": "LayoutModel",
     "state": {
      "_model_module": "@jupyter-widgets/base",
      "_model_module_version": "1.2.0",
      "_model_name": "LayoutModel",
      "_view_count": null,
      "_view_module": "@jupyter-widgets/base",
      "_view_module_version": "1.2.0",
      "_view_name": "LayoutView",
      "align_content": null,
      "align_items": null,
      "align_self": null,
      "border": null,
      "bottom": null,
      "display": null,
      "flex": null,
      "flex_flow": null,
      "grid_area": null,
      "grid_auto_columns": null,
      "grid_auto_flow": null,
      "grid_auto_rows": null,
      "grid_column": null,
      "grid_gap": null,
      "grid_row": null,
      "grid_template_areas": null,
      "grid_template_columns": null,
      "grid_template_rows": null,
      "height": null,
      "justify_content": null,
      "justify_items": null,
      "left": null,
      "margin": null,
      "max_height": null,
      "max_width": null,
      "min_height": null,
      "min_width": null,
      "object_fit": null,
      "object_position": null,
      "order": null,
      "overflow": null,
      "overflow_x": null,
      "overflow_y": null,
      "padding": null,
      "right": null,
      "top": null,
      "visibility": null,
      "width": null
     }
    },
    "96bdac24271c490caeafed06be53e2fd": {
     "model_module": "@jupyter-widgets/controls",
     "model_module_version": "1.5.0",
     "model_name": "HTMLModel",
     "state": {
      "_dom_classes": [],
      "_model_module": "@jupyter-widgets/controls",
      "_model_module_version": "1.5.0",
      "_model_name": "HTMLModel",
      "_view_count": null,
      "_view_module": "@jupyter-widgets/controls",
      "_view_module_version": "1.5.0",
      "_view_name": "HTMLView",
      "description": "",
      "description_tooltip": null,
      "layout": "IPY_MODEL_742a3ef153ee4c1fa4a7ced4c899c0e0",
      "placeholder": "​",
      "style": "IPY_MODEL_ec425fa026f84d359130572ee193b14f",
      "value": " 100/100 [00:24&lt;00:00,  4.91it/s]"
     }
    },
    "b7d303b547924163acb02c690cfac7c7": {
     "model_module": "@jupyter-widgets/controls",
     "model_module_version": "1.5.0",
     "model_name": "HBoxModel",
     "state": {
      "_dom_classes": [],
      "_model_module": "@jupyter-widgets/controls",
      "_model_module_version": "1.5.0",
      "_model_name": "HBoxModel",
      "_view_count": null,
      "_view_module": "@jupyter-widgets/controls",
      "_view_module_version": "1.5.0",
      "_view_name": "HBoxView",
      "box_style": "",
      "children": [
       "IPY_MODEL_3fb3e0fe97e54db99c0532a66911bc84",
       "IPY_MODEL_1add1e8945964e189c63557224b740fc",
       "IPY_MODEL_96bdac24271c490caeafed06be53e2fd"
      ],
      "layout": "IPY_MODEL_81ff9d16b3624054984a94baf2998fad"
     }
    },
    "bb65e7a00bbb44c6aa1ec72f33b64221": {
     "model_module": "@jupyter-widgets/controls",
     "model_module_version": "1.5.0",
     "model_name": "DescriptionStyleModel",
     "state": {
      "_model_module": "@jupyter-widgets/controls",
      "_model_module_version": "1.5.0",
      "_model_name": "DescriptionStyleModel",
      "_view_count": null,
      "_view_module": "@jupyter-widgets/base",
      "_view_module_version": "1.2.0",
      "_view_name": "StyleView",
      "description_width": ""
     }
    },
    "c0774078b6954b58afa08a657c648e37": {
     "model_module": "@jupyter-widgets/controls",
     "model_module_version": "1.5.0",
     "model_name": "ProgressStyleModel",
     "state": {
      "_model_module": "@jupyter-widgets/controls",
      "_model_module_version": "1.5.0",
      "_model_name": "ProgressStyleModel",
      "_view_count": null,
      "_view_module": "@jupyter-widgets/base",
      "_view_module_version": "1.2.0",
      "_view_name": "StyleView",
      "bar_color": null,
      "description_width": ""
     }
    },
    "c575ac2e09424c3f8fc76c924b1314f4": {
     "model_module": "@jupyter-widgets/controls",
     "model_module_version": "1.5.0",
     "model_name": "HTMLModel",
     "state": {
      "_dom_classes": [],
      "_model_module": "@jupyter-widgets/controls",
      "_model_module_version": "1.5.0",
      "_model_name": "HTMLModel",
      "_view_count": null,
      "_view_module": "@jupyter-widgets/controls",
      "_view_module_version": "1.5.0",
      "_view_name": "HTMLView",
      "description": "",
      "description_tooltip": null,
      "layout": "IPY_MODEL_4c2e235e63d64196964deec526f3784c",
      "placeholder": "​",
      "style": "IPY_MODEL_bb65e7a00bbb44c6aa1ec72f33b64221",
      "value": "100%"
     }
    },
    "c6d702c50e9840e69a9e75caf2bdb4b0": {
     "model_module": "@jupyter-widgets/base",
     "model_module_version": "1.2.0",
     "model_name": "LayoutModel",
     "state": {
      "_model_module": "@jupyter-widgets/base",
      "_model_module_version": "1.2.0",
      "_model_name": "LayoutModel",
      "_view_count": null,
      "_view_module": "@jupyter-widgets/base",
      "_view_module_version": "1.2.0",
      "_view_name": "LayoutView",
      "align_content": null,
      "align_items": null,
      "align_self": null,
      "border": null,
      "bottom": null,
      "display": null,
      "flex": null,
      "flex_flow": null,
      "grid_area": null,
      "grid_auto_columns": null,
      "grid_auto_flow": null,
      "grid_auto_rows": null,
      "grid_column": null,
      "grid_gap": null,
      "grid_row": null,
      "grid_template_areas": null,
      "grid_template_columns": null,
      "grid_template_rows": null,
      "height": null,
      "justify_content": null,
      "justify_items": null,
      "left": null,
      "margin": null,
      "max_height": null,
      "max_width": null,
      "min_height": null,
      "min_width": null,
      "object_fit": null,
      "object_position": null,
      "order": null,
      "overflow": null,
      "overflow_x": null,
      "overflow_y": null,
      "padding": null,
      "right": null,
      "top": null,
      "visibility": null,
      "width": null
     }
    },
    "e6f3d7eb344d40a4b9fd97a3617a94f9": {
     "model_module": "@jupyter-widgets/controls",
     "model_module_version": "1.5.0",
     "model_name": "DescriptionStyleModel",
     "state": {
      "_model_module": "@jupyter-widgets/controls",
      "_model_module_version": "1.5.0",
      "_model_name": "DescriptionStyleModel",
      "_view_count": null,
      "_view_module": "@jupyter-widgets/base",
      "_view_module_version": "1.2.0",
      "_view_name": "StyleView",
      "description_width": ""
     }
    },
    "ec425fa026f84d359130572ee193b14f": {
     "model_module": "@jupyter-widgets/controls",
     "model_module_version": "1.5.0",
     "model_name": "DescriptionStyleModel",
     "state": {
      "_model_module": "@jupyter-widgets/controls",
      "_model_module_version": "1.5.0",
      "_model_name": "DescriptionStyleModel",
      "_view_count": null,
      "_view_module": "@jupyter-widgets/base",
      "_view_module_version": "1.2.0",
      "_view_name": "StyleView",
      "description_width": ""
     }
    },
    "f3fc925008d64eb3af346326f11737cf": {
     "model_module": "@jupyter-widgets/controls",
     "model_module_version": "1.5.0",
     "model_name": "DescriptionStyleModel",
     "state": {
      "_model_module": "@jupyter-widgets/controls",
      "_model_module_version": "1.5.0",
      "_model_name": "DescriptionStyleModel",
      "_view_count": null,
      "_view_module": "@jupyter-widgets/base",
      "_view_module_version": "1.2.0",
      "_view_name": "StyleView",
      "description_width": ""
     }
    }
   }
  }
 },
 "nbformat": 4,
 "nbformat_minor": 5
}
