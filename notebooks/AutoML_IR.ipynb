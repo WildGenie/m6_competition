{
 "cells": [
  {
   "attachments": {},
   "cell_type": "markdown",
   "metadata": {},
   "source": [
    "# Investment Return Optimization with AutoML for [M6 Competition](https://m6competition.com/)\n",
    "\n",
    "<br>__[Aleksei Mashlakov](https://aleksei-mashlakov.github.io/)__ \n",
    "<br>\n",
    "<br>\n",
    "<a href='https://www.buymeacoffee.com/amashlakov' target='_blank'><img height='50' style='border:0px;height:50px;' src='https://www.buymeacoffee.com/assets/img/guidelines/download-assets-2.svg' border='0' alt='Buy Me a Coffee' /></a>\n",
    "\n",
    "> Based on [Riskfolio-Lib](https://riskfolio-lib.readthedocs.io/en/latest/) Tutorial 34: Comparing Covariance Estimators Methods and [Optuna](https://optuna.org/) for Hyperparameter Tuning\n",
    "\n",
    "> :warning: **NO INVESTMENT ADVICE** :warning:​ This notebook is for educational/informational purposes only. The author is not responsible for any losses incurred as a result of using this notebook. "
   ]
  },
  {
   "cell_type": "code",
   "execution_count": null,
   "metadata": {},
   "outputs": [],
   "source": [
    "%load_ext autoreload\n",
    "%autoreload 2\n",
    "%config InlineBackend.figure_format='retina'\n",
    "\n",
    "import os\n",
    "import numpy as np\n",
    "import pandas as pd\n",
    "import yfinance as yf\n",
    "import warnings\n",
    "import datetime\n",
    "import riskfolio as rp\n",
    "from pathlib import Path\n",
    "import plotly.express as px\n",
    "import plotly.io as pio\n",
    "import chart_studio.plotly as py\n",
    "# pio.renderers.default = \"notebook\"\n",
    "pio.templates.default = \"simple_white\"\n",
    "\n",
    "np.random.seed(42)\n",
    "warnings.filterwarnings(\"ignore\")\n",
    "# pd.options.display.float_format = '{:.4%}'.format"
   ]
  },
  {
   "cell_type": "code",
   "execution_count": null,
   "metadata": {},
   "outputs": [],
   "source": [
    "import chart_studio\n",
    "username=''\n",
    "api_key=''\n",
    "chart_studio.tools.set_credentials_file(username=username,\n",
    "                                        api_key=api_key)"
   ]
  },
  {
   "cell_type": "code",
   "execution_count": null,
   "metadata": {},
   "outputs": [],
   "source": [
    "%reload_ext autoreload"
   ]
  },
  {
   "cell_type": "code",
   "execution_count": null,
   "metadata": {},
   "outputs": [],
   "source": [
    "wd_path = Path.cwd().parent \n",
    "os.chdir(wd_path)\n",
    "data_path = wd_path / \"data\" "
   ]
  },
  {
   "attachments": {},
   "cell_type": "markdown",
   "metadata": {},
   "source": [
    "### Downloading the train and target data:"
   ]
  },
  {
   "cell_type": "code",
   "execution_count": null,
   "metadata": {},
   "outputs": [],
   "source": [
    "# download the price data\n",
    "# !curl -O https://m6competition.com/api/data/assets/assets_m6.csv -O ../data/raw/assets_m6.csv -q\n",
    "\n",
    "# download the ticker data\n",
    "# !wget https://storage.googleapis.com/m6-bucket-webapp-public/M6_Universe.csv  -O ../data/template/M6_Universe.csv -q"
   ]
  },
  {
   "cell_type": "code",
   "execution_count": null,
   "metadata": {},
   "outputs": [],
   "source": [
    "# Date range\n",
    "start = '2021-01-01'\n",
    "end = '2023-02-03'\n",
    "# end = datetime.now().date().strftime(format=(\"%Y-%m-%d\"))\n",
    "\n",
    "#The M6 asset universe\n",
    "assets = [\n",
    "  \"ABBV\",\"ACN\",\"AEP\",\"AIZ\",\"ALLE\",\"AMAT\",\"AMP\",\"AMZN\",\"AVB\",\"AVY\",\n",
    "  \"AXP\",\"BDX\",\"BF-B\",\"BMY\",\"BR\",\"CARR\",\"CDW\",\"CE\",\"CHTR\",\"CNC\",\n",
    "  \"CNP\",\"COP\",\"CTAS\",\"CZR\",\"DG\",\"DPZ\",\"DRE\",\"DXC\",\"META\",\"FTV\",\n",
    "  \"GOOG\",\"GPC\",\"HIG\",\"HST\",\"JPM\",\"KR\",\"OGN\",\"PG\",\"PPL\",\"PRU\",\n",
    "  \"PYPL\",\"RE\",\"ROL\",\"ROST\",\"UNH\",\"URI\",\"V\",\"VRSK\",\"WRK\",\"XOM\",\n",
    "  \"IVV\",\"IWM\",\"EWU\",\"EWG\",\"EWL\",\"EWQ\",\"IEUS\",\"EWJ\",\"EWT\",\"MCHI\",\n",
    "  \"INDA\",\"EWY\",\"EWA\",\"EWH\",\"EWZ\",\"EWC\",\"IEMG\",\"LQD\",\"HYG\",\"SHY\",\n",
    "  \"IEF\",\"TLT\",\"SEGA.L\",\"IEAA.L\",\"HIGH.L\",\"JPEA.L\",\"IAU\",\"SLV\",\"GSG\",\"REET\",\n",
    "  \"ICLN\",\"IXN\",\"IGF\",\"IUVL.L\",\"IUMO.L\",\"SPMV.L\",\"IEVL.L\",\"IEFM.L\",\"MVEU.L\",\"XLK\",\n",
    "  \"XLF\",\"XLV\",\"XLE\",\"XLY\",\"XLI\",\"XLC\",\"XLU\",\"XLP\",\"XLB\",\"VXX\"]\n",
    "\n",
    "# Downloading data\n",
    "train_data = yf.download(assets, start = start, end = end, ignore_tz=True)\n",
    "train_data = train_data['Adj Close']\n",
    "train_data = train_data.ffill()\n",
    "train_data = train_data.drop([\"DRE\"], axis=1)\n",
    "train_data.index = pd.to_datetime(train_data.index).date\n",
    "train_data.head()"
   ]
  },
  {
   "attachments": {},
   "cell_type": "markdown",
   "metadata": {},
   "source": [
    "> Note that DRE stock has been removed "
   ]
  },
  {
   "cell_type": "code",
   "execution_count": null,
   "metadata": {},
   "outputs": [],
   "source": [
    "# Read asset prices data (as provided by the M6 submission platform)\n",
    "\n",
    "path = data_path / \"raw\" / \"assets_m6.csv\"\n",
    "m6_price_data = pd.read_csv(path)\n",
    "m6_price_data[\"date\"] = pd.to_datetime(m6_price_data[\"date\"])\n",
    "m6_price_data[\"symbol\"] = m6_price_data[\"symbol\"].replace(\"FB\", \"META\")\n",
    "# m6_price_data = m6_price_data.pivot(index=\"date\", columns=\"symbol\", values=\"price\")\n",
    "m6_price_data.head()"
   ]
  },
  {
   "cell_type": "code",
   "execution_count": null,
   "metadata": {},
   "outputs": [],
   "source": [
    "# fill missing values for DRE (there should be more elegant way to do this but I'm lazy)\n",
    "dre_date = m6_price_data[m6_price_data[\"symbol\"]==\"DRE\"][\"date\"]\n",
    "meta_date = m6_price_data[m6_price_data[\"symbol\"]==\"META\"][\"date\"]\n",
    "missing_dre_dates = pd.concat([dre_date.reset_index(drop=True), \n",
    "           meta_date.reset_index(drop=True)], axis=1).isna().iloc[:,0]\n",
    "\n",
    "price = m6_price_data[m6_price_data[\"symbol\"]==\"DRE\"][\"price\"].values[-1]\n",
    "dates = meta_date.reset_index(drop=True)[missing_dre_dates].reset_index(drop=True)\n",
    "\n",
    "for date in dates:\n",
    "    m6_price_data = m6_price_data.append({\"date\": date, \"symbol\": \"DRE\", \"price\": price}, ignore_index=True)"
   ]
  },
  {
   "cell_type": "code",
   "execution_count": null,
   "metadata": {},
   "outputs": [],
   "source": [
    "assert m6_price_data[m6_price_data[\"symbol\"]==\"DRE\"].sort_values(by=\"date\").iloc[-1, 2] == 48.2"
   ]
  },
  {
   "cell_type": "code",
   "execution_count": null,
   "metadata": {},
   "outputs": [],
   "source": [
    "# transform the price data to 20 days prc returns\n",
    "from src.ticker_features import calculate_pct_returns\n",
    "\n",
    "train_data = train_data.apply(calculate_pct_returns, periods=20, axis=0).dropna()\n",
    "train_data.head()"
   ]
  },
  {
   "cell_type": "code",
   "execution_count": null,
   "metadata": {},
   "outputs": [],
   "source": [
    "df_submission = pd.read_csv(data_path / \"template/template.csv\")\n",
    "df_submission[\"ID\"] = df_submission[\"ID\"].replace(\"FB\", \"META\")\n",
    "df_submission.head()"
   ]
  },
  {
   "attachments": {},
   "cell_type": "markdown",
   "metadata": {},
   "source": [
    "> Lets plot the data to see the trends"
   ]
  },
  {
   "cell_type": "code",
   "execution_count": null,
   "metadata": {},
   "outputs": [],
   "source": [
    "m6_dates = []\n",
    "for i, start in enumerate(pd.date_range(start=\"2022-03-04\", end=\"2023-02-03\", freq='28D', inclusive=\"left\")):\n",
    "    end = start + pd.Timedelta(days=28)\n",
    "    m6_dates.append(start)\n",
    "    print(f\"Competition Month {i+1:2d}: {start.date()} -- {end.date()}\")"
   ]
  },
  {
   "cell_type": "code",
   "execution_count": null,
   "metadata": {},
   "outputs": [],
   "source": [
    "fig = px.line(train_data, title=\"20 days returns\")\n",
    "for i, date in enumerate(m6_dates):\n",
    "    fig.add_vline(\n",
    "        x=date,\n",
    "        line_width=1,\n",
    "        line_dash=\"dash\",\n",
    "        line_color=\"black\",\n",
    "    )\n",
    "    fig.add_annotation(x=date + datetime.timedelta(days=14), y=0.6,\n",
    "            text=f\"M{i+1}\",\n",
    "            showarrow=False,\n",
    "            yshift=10)\n",
    "fig.add_hline(\n",
    "        y=1.0,\n",
    "        line_width=1,\n",
    "        line_dash=\"dash\",\n",
    "        line_color=\"black\",\n",
    "    )\n",
    "fig.update_traces(line=dict(width=1))\n",
    "# py.plot(fig, filename=f\"m6_competition_assets\", auto_open = True)\n",
    "fig.show()"
   ]
  },
  {
   "attachments": {},
   "cell_type": "markdown",
   "metadata": {},
   "source": [
    "> See the seasonality? Me too. "
   ]
  },
  {
   "cell_type": "markdown",
   "metadata": {},
   "source": [
    "### Risk measures available\n",
    "\n",
    "```\n",
    "    - 'MV': Standard Deviation.\n",
    "    - 'MAD': Mean Absolute Deviation.\n",
    "    - 'MSV': Semi Standard Deviation.\n",
    "    - 'FLPM': First Lower Partial Moment (Omega Ratio).\n",
    "    - 'SLPM': Second Lower Partial Moment (Sortino Ratio).\n",
    "    - 'CVaR': Conditional Value at Risk.\n",
    "    - 'EVaR': Entropic Value at Risk.\n",
    "    - 'WR': Worst Realization (Minimax)\n",
    "    - 'MDD': Maximum Drawdown of uncompounded cumulative returns (Calmar Ratio).\n",
    "    - 'ADD': Average Drawdown of uncompounded cumulative returns.\n",
    "    - 'CDaR': Conditional Drawdown at Risk of uncompounded cumulative returns.\n",
    "    - 'EDaR': Entropic Drawdown at Risk of uncompounded cumulative returns.\n",
    "    - 'UCI': Ulcer Index of uncompounded cumulative returns.\n",
    "```"
   ]
  },
  {
   "cell_type": "code",
   "execution_count": null,
   "metadata": {},
   "outputs": [],
   "source": [
    "import optuna\n",
    "import os\n",
    "\n",
    "# Turn off optuna log notes.\n",
    "optuna.logging.set_verbosity(optuna.logging.WARN)\n",
    "\n",
    "import pyrootutils\n",
    "\n",
    "# root = pyrootutils.setup_root(\"..\", dotenv=True, pythonpath=True)\n",
    "\n",
    "from src.portfolio_options import RMS, kellys, method_covs, mus, rms_short\n",
    "from src.portfolio_tuning import (\n",
    "    PortfolioConfig,\n",
    "    PortfolioOptConfig,\n",
    "    backtest_M6_ir,\n",
    "    logging_callback,\n",
    ")\n",
    "\n",
    "\n",
    "class Objective(object):\n",
    "    def __init__(self, m6_price_data, m6_returns_data, m6_submission, m6_dates):\n",
    "        # Hold this implementation specific arguments as the fields of the class.\n",
    "        self.price_data = m6_price_data\n",
    "        self.returns_data = m6_returns_data\n",
    "        self.submission_template = m6_submission\n",
    "        self.dates = m6_dates\n",
    "\n",
    "    def __call__(self, trial):\n",
    "        # Calculate an objective value by using the extra arguments.\n",
    "        rm = trial.suggest_categorical(\"rms\", RMS)  # or rms_short\n",
    "        # if rm in [\"CVaR\", \"EVaR\", \"CDaR\", \"EDaR\"]:\n",
    "        #     alpha = round(trial.suggest_float(\"alpha\", 0.01, 0.1, step=0.01, log=False), 2)\n",
    "        # else:\n",
    "        #     alpha = 0.05\n",
    "        \n",
    "        alpha = 0.05\n",
    "        long_ratio = round(trial.suggest_float(\"upperlng\", 0.1, 1.0, step=0.1), 2)\n",
    "        short_ratio = round(1.0 - long_ratio, 2)\n",
    "        weeks_lookback = 10  # trial.suggest_int(\"lags_past_weeks\", 4, 40, log=False)\n",
    "        obj = \"Sharpe\"       # trial.suggest_categorical(\"objective\", [\"MinRisk\", \"Sharpe\"])\n",
    "        kelly = False        # trial.suggest_categorical(\"kelly\", kellys)\n",
    "        mu = \"hist\"          # trial.suggest_categorical(\"mu\", mus)\n",
    "        cov = \"hist\"         # trial.suggest_categorical(\"cov\", method_covs) \n",
    "        port_params = PortfolioConfig(\n",
    "            sht=True, uppersht=short_ratio, upperlng=long_ratio, alpha=alpha\n",
    "        )\n",
    "        print(rm)\n",
    "        opt_config = PortfolioOptConfig(\n",
    "            model=\"Classic\",\n",
    "            rm=rm,\n",
    "            obj=obj,\n",
    "            mu=mu,\n",
    "            cov=cov,\n",
    "            weeks_lookback=weeks_lookback,\n",
    "            kelly=kelly,\n",
    "        )\n",
    "\n",
    "        return backtest_M6_ir(\n",
    "            port_params=port_params,\n",
    "            opt_config=opt_config,\n",
    "            m6_price_data=self.price_data,\n",
    "            returns_data=self.returns_data,\n",
    "            df_submission=self.submission_template,\n",
    "            start=self.dates[0], \n",
    "            end=self.dates[-1]\n",
    "        )\n",
    "\n",
    "\n",
    "study_name = \"test\"\n",
    "os.remove(data_path / f\"results/{study_name}.db\")\n",
    "study = optuna.create_study(\n",
    "    direction=\"maximize\",\n",
    "    sampler=optuna.samplers.TPESampler(seed=42, n_startup_trials=50),\n",
    "    storage=\"sqlite:///\" + str(data_path) + f\"/results/{study_name}.db\",\n",
    "    study_name=study_name,\n",
    "    load_if_exists=False,\n",
    ")\n",
    "\n",
    "objective = Objective(\n",
    "    m6_price_data=m6_price_data, m6_returns_data=train_data, m6_submission=df_submission, m6_dates=m6_dates\n",
    ")\n",
    "\n",
    "study.optimize(\n",
    "    objective, n_trials=5, callbacks=[logging_callback], show_progress_bar=True\n",
    ")"
   ]
  },
  {
   "cell_type": "code",
   "execution_count": null,
   "metadata": {},
   "outputs": [],
   "source": [
    "print(f\"Best trial: \\n{study.best_trial}\\n\")\n",
    "print(f\"Best value: {study.best_value}\\n\")\n",
    "print(f\"Best params: {study.best_params}\\n\")"
   ]
  },
  {
   "cell_type": "code",
   "execution_count": null,
   "metadata": {},
   "outputs": [],
   "source": [
    "# print(study.trials)\n",
    "\n",
    "from optuna.visualization import plot_contour\n",
    "from optuna.visualization import plot_edf\n",
    "from optuna.visualization import plot_intermediate_values\n",
    "from optuna.visualization import plot_optimization_history\n",
    "from optuna.visualization import plot_parallel_coordinate\n",
    "from optuna.visualization import plot_param_importances\n",
    "from optuna.visualization import plot_slice\n",
    "\n",
    "import plotly.io as pio\n",
    "pio.renderers.default = \"notebook\"\n",
    "pio.templates.default = \"plotly_dark\"\n",
    "\n",
    "plot_contour(study)\n",
    "# plot_intermediate_values(study)\n",
    "fig = plot_parallel_coordinate(study)"
   ]
  },
  {
   "cell_type": "code",
   "execution_count": null,
   "metadata": {},
   "outputs": [],
   "source": [
    "fig.show()"
   ]
  },
  {
   "cell_type": "code",
   "execution_count": null,
   "metadata": {},
   "outputs": [],
   "source": [
    "import os\n",
    "study_name = \"IR\"\n",
    "results_directory =  Path().cwd() / \"data/results\"\n",
    "if not os.path.exists(results_directory):\n",
    "    os.makedirs(results_directory)\n",
    "study.trials_dataframe().to_csv(f\"{results_directory}/{study_name}.csv\", index=False)\n",
    "plot_parallel_coordinate(study).write_html(f\"{results_directory}/{study_name}_parallel.html\")\n",
    "plot_contour(study).write_html(f\"{results_directory}/{study_name}_contour.html\")"
   ]
  },
  {
   "attachments": {},
   "cell_type": "markdown",
   "metadata": {},
   "source": [
    "### Estimating optimized Portfolios "
   ]
  },
  {
   "cell_type": "code",
   "execution_count": null,
   "metadata": {},
   "outputs": [],
   "source": [
    "\n",
    "# Building the portfolio object\n",
    "port = rp.Portfolio(returns=train_data)\n",
    "start = train_data.index[-1]\n",
    "asset_data_fit = train_data[(train_data.index>(start - pd.Timedelta(days=7*35)))].copy()\n",
    "\n",
    "# Select method and estimate input parameters:\n",
    "\n",
    "method_mu='hist' # Method to estimate expected returns based on historical data.\n",
    "method_cov='hist' # Method to estimate covariance matrix based on historical data.\n",
    "port.assets_stats(method_mu=method_mu, method_cov=method_cov, d=0.95)\n",
    "\n",
    "# Configuring short weights options\n",
    "\n",
    "port.sht = True # Allows to use Short Weights\n",
    "port.uppersht = 0.3 # Maximum value of sum of short weights in absolute value\n",
    "port.upperlng = 0.7 # Maximum value of sum of positive weights\n",
    "port.budget = port.upperlng - port.uppersht\n",
    "\n",
    "# Estimate optimal portfolio:\n",
    "model='Classic' # Could be Classic (historical), BL (Black Litterman) or FM (Factor Model)\n",
    "rm = 'EVaR' # Risk measure used, this time will be variance\n",
    "obj = 'Sharpe' # Objective function, could be MinRisk, MaxRet, Utility or Sharpe\n",
    "hist = False # Use historical scenarios for risk measures that depend on scenarios\n",
    "rf = 0 # Risk free rate\n",
    "l = 0 # Risk aversion factor, only useful when obj is 'Utility'\n",
    "\n",
    "w = port.optimization(model=model, rm=rm, obj=obj, rf=rf, l=l, hist=hist)\n",
    "\n",
    "display(w.T)\n",
    "\n",
    "\n",
    "print(w.abs().sum())\n",
    "print(w[w>0].sum())\n",
    "print(w[w<0].sum())"
   ]
  },
  {
   "cell_type": "code",
   "execution_count": null,
   "metadata": {},
   "outputs": [],
   "source": [
    "w.loc[\"DRE\",\"weights\"] = 0.0"
   ]
  },
  {
   "cell_type": "code",
   "execution_count": null,
   "metadata": {},
   "outputs": [],
   "source": [
    "w.style.format(\"{:.2%}\").background_gradient(cmap='YlGn')"
   ]
  },
  {
   "cell_type": "code",
   "execution_count": null,
   "metadata": {},
   "outputs": [],
   "source": [
    "# Plotting the composition of the portfolio\n",
    "\n",
    "ax = rp.plot_pie(w=w, title='Sharpe Mean Variance', others=0.05, nrow=25, cmap = \"tab20\",\n",
    "                 height=6, width=10, ax=None)\n",
    "1 - w.round(5).abs().sum()"
   ]
  },
  {
   "cell_type": "code",
   "execution_count": null,
   "metadata": {},
   "outputs": [],
   "source": [
    "import matplotlib.pyplot as plt\n",
    "\n",
    "# Plotting a comparison of assets weights for each portfolio\n",
    "\n",
    "fig = plt.gcf()\n",
    "fig.set_figwidth(14)\n",
    "fig.set_figheight(6)\n",
    "ax = fig.subplots(nrows=1, ncols=1)\n",
    "\n",
    "w.plot.bar(ax=ax)"
   ]
  },
  {
   "cell_type": "code",
   "execution_count": null,
   "metadata": {},
   "outputs": [],
   "source": [
    "# Plotting the risk composition of the portfolio\n",
    "\n",
    "ax = rp.plot_risk_con(w, cov=port.cov, returns=port.returns, rm=rm, rf=0, alpha=0.01,\n",
    "                      color=\"tab:blue\", height=6, width=10, ax=None)"
   ]
  },
  {
   "cell_type": "code",
   "execution_count": null,
   "metadata": {},
   "outputs": [],
   "source": [
    "df_submission = pd.read_csv(Path.cwd().parent / \"data/results/submission_sub12.csv\", index_col=0)\n",
    "# df_submission = pd.read_csv(\"../data/template/template.csv\", index_col=0)\n",
    "w = w.reindex(index=df_submission.index.values)\n",
    "# df_submission['ID'] = df_submission['ID'].replace('FB', 'META')\n",
    "df_submission.iloc[:,-1] = w.values\n",
    "df_submission.iloc[:,-1] = df_submission.iloc[:,-1].round(5)\n",
    "df_submission.iloc[0, -1] = df_submission.iloc[0, -1] + (1 - w.round(5).abs().sum())\n",
    "df_submission.iloc[:,-1] = df_submission.iloc[:,-1].round(5)\n",
    "df_submission.reset_index().to_csv(Path.cwd().parent / \"data/results/submission_sub12.csv\", index=False)\n",
    "(df_submission.abs()).sum(axis=0)"
   ]
  },
  {
   "cell_type": "code",
   "execution_count": null,
   "metadata": {},
   "outputs": [],
   "source": []
  },
  {
   "cell_type": "code",
   "execution_count": null,
   "metadata": {},
   "outputs": [],
   "source": []
  },
  {
   "cell_type": "code",
   "execution_count": null,
   "metadata": {},
   "outputs": [],
   "source": []
  },
  {
   "attachments": {},
   "cell_type": "markdown",
   "metadata": {},
   "source": [
    "### Check submissions for Q2 "
   ]
  },
  {
   "cell_type": "code",
   "execution_count": null,
   "metadata": {},
   "outputs": [],
   "source": [
    "# Plotting the composition of the portfolio\n",
    "M4 = pd.read_csv(data_path / \"results/M4.csv\", index_col=0, sep=\"\\t\")\n",
    "ax = rp.plot_pie(w=M4[[\"Decision\"]], title='Portfolio for Month 4', others=0.05, nrow=25, cmap = \"tab20\",\n",
    "                 height=6, width=10, ax=None)"
   ]
  },
  {
   "cell_type": "code",
   "execution_count": null,
   "metadata": {},
   "outputs": [],
   "source": [
    "# Plotting the composition of the portfolio\n",
    "M5 = pd.read_csv(data_path / \"results/M5.csv\", index_col=0, sep=\"\\t\")\n",
    "ax = rp.plot_pie(w=M5[[\"Decision\"]], title='Portfolio for Month 5', others=0.05, nrow=25, cmap = \"tab20\",\n",
    "                 height=6, width=10, ax=None)"
   ]
  },
  {
   "cell_type": "code",
   "execution_count": null,
   "metadata": {},
   "outputs": [],
   "source": [
    "# Plotting the composition of the portfolio\n",
    "M6 = pd.read_csv(data_path / \"results/M6.csv\", index_col=0, sep=\"\\t\")\n",
    "ax = rp.plot_pie(w=M6[[\"Decision\"]], title='Portfolio for Month 6', others=0.05, nrow=25, cmap = \"tab20\",\n",
    "                 height=6, width=10, ax=None)"
   ]
  },
  {
   "cell_type": "code",
   "execution_count": null,
   "metadata": {},
   "outputs": [],
   "source": []
  }
 ],
 "metadata": {
  "kernelspec": {
   "display_name": "datascience",
   "language": "python",
   "name": "python3"
  },
  "language_info": {
   "codemirror_mode": {
    "name": "ipython",
    "version": 3
   },
   "file_extension": ".py",
   "mimetype": "text/x-python",
   "name": "python",
   "nbconvert_exporter": "python",
   "pygments_lexer": "ipython3",
   "version": "3.8.12"
  },
  "vscode": {
   "interpreter": {
    "hash": "c8e0bb0da2aff65736b499a73199d9b3916fe5784b22bc0d777fb56d771df7b1"
   }
  }
 },
 "nbformat": 4,
 "nbformat_minor": 4
}
